{
 "cells": [
  {
   "cell_type": "markdown",
   "id": "68dcbbbc-4646-4cb2-b5db-b39093c83ed8",
   "metadata": {},
   "source": [
    "# Summary"
   ]
  },
  {
   "cell_type": "markdown",
   "id": "8c6bf24c-158a-4531-aa37-1e0661158f91",
   "metadata": {},
   "source": [
    "Retraining the model with either configuration of max_depth gives worse results than the model that is currently deployed. This model, in turn, is slightly worse than the baseline model, which always predicts the mean of the training target values. \n",
    "\n",
    "The current model is thus left intact."
   ]
  },
  {
   "cell_type": "markdown",
   "id": "be242d2b-5a0f-4c00-95be-3081b032de02",
   "metadata": {},
   "source": [
    "# Setup"
   ]
  },
  {
   "cell_type": "code",
   "execution_count": 1,
   "id": "c6c77b9a-7268-48c2-b9da-fabc5d91400a",
   "metadata": {},
   "outputs": [],
   "source": [
    "%config Completer.use_jedi = False"
   ]
  },
  {
   "cell_type": "code",
   "execution_count": 2,
   "id": "4fe33229-b222-4842-a7bf-179e7d1d4e97",
   "metadata": {},
   "outputs": [],
   "source": [
    "import pickle\n",
    "\n",
    "import numpy as np\n",
    "import pandas as pd\n",
    "import seaborn as sns\n",
    "from sklearn.metrics import mean_absolute_error\n",
    "from sklearn.model_selection import GridSearchCV\n",
    "from sklearn.preprocessing import OrdinalEncoder\n",
    "from sklearn.tree import DecisionTreeRegressor\n",
    "\n",
    "from dataprep import db_to_df"
   ]
  },
  {
   "cell_type": "markdown",
   "id": "03adc7e1-4a1e-4972-beca-9f402add62aa",
   "metadata": {},
   "source": [
    "# Data preparation"
   ]
  },
  {
   "cell_type": "code",
   "execution_count": 3,
   "id": "2a4bdd91-b2d5-4429-a033-65a554be2729",
   "metadata": {},
   "outputs": [
    {
     "name": "stdout",
     "output_type": "stream",
     "text": [
      "<class 'pandas.core.frame.DataFrame'>\n",
      "Int64Index: 24 entries, 1 to 24\n",
      "Data columns (total 9 columns):\n",
      " #   Column                          Non-Null Count  Dtype \n",
      "---  ------                          --------------  ----- \n",
      " 0   author                          17 non-null     object\n",
      " 1   title                           24 non-null     object\n",
      " 2   url                             24 non-null     object\n",
      " 3   published_at                    24 non-null     object\n",
      " 4   content                         23 non-null     object\n",
      " 5   source_name                     24 non-null     object\n",
      " 6   predicted_score_when_presented  24 non-null     int64 \n",
      " 7   assigned_score                  24 non-null     int64 \n",
      " 8   is_test_record                  24 non-null     int64 \n",
      "dtypes: int64(3), object(6)\n",
      "memory usage: 1.9+ KB\n"
     ]
    }
   ],
   "source": [
    "articles = db_to_df()\n",
    "articles.info()"
   ]
  },
  {
   "cell_type": "code",
   "execution_count": 4,
   "id": "808d54b3-9ddc-4d09-8dd1-dc521fe58684",
   "metadata": {},
   "outputs": [],
   "source": [
    "articles['published_at'] = pd.to_datetime(articles['published_at'])"
   ]
  },
  {
   "cell_type": "code",
   "execution_count": 5,
   "id": "67a5d97b-bfc7-4bab-8307-0d689220056a",
   "metadata": {},
   "outputs": [
    {
     "data": {
      "text/html": [
       "<div>\n",
       "<style scoped>\n",
       "    .dataframe tbody tr th:only-of-type {\n",
       "        vertical-align: middle;\n",
       "    }\n",
       "\n",
       "    .dataframe tbody tr th {\n",
       "        vertical-align: top;\n",
       "    }\n",
       "\n",
       "    .dataframe thead th {\n",
       "        text-align: right;\n",
       "    }\n",
       "</style>\n",
       "<table border=\"1\" class=\"dataframe\">\n",
       "  <thead>\n",
       "    <tr style=\"text-align: right;\">\n",
       "      <th></th>\n",
       "      <th>author</th>\n",
       "      <th>title</th>\n",
       "      <th>url</th>\n",
       "      <th>published_at</th>\n",
       "      <th>content</th>\n",
       "      <th>source_name</th>\n",
       "      <th>predicted_score_when_presented</th>\n",
       "      <th>assigned_score</th>\n",
       "      <th>is_test_record</th>\n",
       "    </tr>\n",
       "    <tr>\n",
       "      <th>id</th>\n",
       "      <th></th>\n",
       "      <th></th>\n",
       "      <th></th>\n",
       "      <th></th>\n",
       "      <th></th>\n",
       "      <th></th>\n",
       "      <th></th>\n",
       "      <th></th>\n",
       "      <th></th>\n",
       "    </tr>\n",
       "  </thead>\n",
       "  <tbody>\n",
       "    <tr>\n",
       "      <th>1</th>\n",
       "      <td>Tyler Sullivan</td>\n",
       "      <td>2022 NFL Free Agency tracker: Live updates, la...</td>\n",
       "      <td>https://www.cbssports.com/nfl/news/2022-nfl-fr...</td>\n",
       "      <td>2022-03-15 14:35:03+00:00</td>\n",
       "      <td>The dominos are continuing to fall across the ...</td>\n",
       "      <td>CBS Sports</td>\n",
       "      <td>50</td>\n",
       "      <td>-999</td>\n",
       "      <td>0</td>\n",
       "    </tr>\n",
       "    <tr>\n",
       "      <th>2</th>\n",
       "      <td>By &lt;a href=\"/profiles/jessie-yeung\"&gt;Jessie Yeu...</td>\n",
       "      <td>Russia invades Ukraine: Live updates - CNN</td>\n",
       "      <td>https://www.cnn.com/europe/live-news/ukraine-r...</td>\n",
       "      <td>2022-03-05 06:27:00+00:00</td>\n",
       "      <td>Russia is poised to deploy up to 1,000 more me...</td>\n",
       "      <td>CNN</td>\n",
       "      <td>50</td>\n",
       "      <td>-999</td>\n",
       "      <td>1</td>\n",
       "    </tr>\n",
       "    <tr>\n",
       "      <th>3</th>\n",
       "      <td>By &lt;a href=\"/profiles/jessie-yeung\"&gt;Jessie Yeu...</td>\n",
       "      <td>Russia invades Ukraine: Live updates - CNN</td>\n",
       "      <td>https://www.cnn.com/europe/live-news/ukraine-r...</td>\n",
       "      <td>2022-03-05 06:27:00+00:00</td>\n",
       "      <td>Russia is poised to deploy up to 1,000 more me...</td>\n",
       "      <td>CNN</td>\n",
       "      <td>50</td>\n",
       "      <td>95</td>\n",
       "      <td>0</td>\n",
       "    </tr>\n",
       "    <tr>\n",
       "      <th>4</th>\n",
       "      <td>None</td>\n",
       "      <td>Apple presses U.S. lawmakers on dangers of 'si...</td>\n",
       "      <td>https://www.reuters.com/technology/apple-press...</td>\n",
       "      <td>2022-03-04 22:13:00+00:00</td>\n",
       "      <td>WASHINGTON, March 4 (Reuters) - Smartphone mak...</td>\n",
       "      <td>Reuters</td>\n",
       "      <td>50</td>\n",
       "      <td>50</td>\n",
       "      <td>1</td>\n",
       "    </tr>\n",
       "    <tr>\n",
       "      <th>5</th>\n",
       "      <td>Brent Sobleski</td>\n",
       "      <td>Top 5 Potential Landing Spots for Dallas Cowbo...</td>\n",
       "      <td>https://bleacherreport.com/articles/2954024-to...</td>\n",
       "      <td>2022-03-04 22:34:10+00:00</td>\n",
       "      <td>Ron Schwane/Associated Press\\r\\nMuch like Coop...</td>\n",
       "      <td>Bleacher Report</td>\n",
       "      <td>50</td>\n",
       "      <td>0</td>\n",
       "      <td>0</td>\n",
       "    </tr>\n",
       "  </tbody>\n",
       "</table>\n",
       "</div>"
      ],
      "text/plain": [
       "                                               author  \\\n",
       "id                                                      \n",
       "1                                      Tyler Sullivan   \n",
       "2   By <a href=\"/profiles/jessie-yeung\">Jessie Yeu...   \n",
       "3   By <a href=\"/profiles/jessie-yeung\">Jessie Yeu...   \n",
       "4                                                None   \n",
       "5                                      Brent Sobleski   \n",
       "\n",
       "                                                title  \\\n",
       "id                                                      \n",
       "1   2022 NFL Free Agency tracker: Live updates, la...   \n",
       "2          Russia invades Ukraine: Live updates - CNN   \n",
       "3          Russia invades Ukraine: Live updates - CNN   \n",
       "4   Apple presses U.S. lawmakers on dangers of 'si...   \n",
       "5   Top 5 Potential Landing Spots for Dallas Cowbo...   \n",
       "\n",
       "                                                  url  \\\n",
       "id                                                      \n",
       "1   https://www.cbssports.com/nfl/news/2022-nfl-fr...   \n",
       "2   https://www.cnn.com/europe/live-news/ukraine-r...   \n",
       "3   https://www.cnn.com/europe/live-news/ukraine-r...   \n",
       "4   https://www.reuters.com/technology/apple-press...   \n",
       "5   https://bleacherreport.com/articles/2954024-to...   \n",
       "\n",
       "                published_at  \\\n",
       "id                             \n",
       "1  2022-03-15 14:35:03+00:00   \n",
       "2  2022-03-05 06:27:00+00:00   \n",
       "3  2022-03-05 06:27:00+00:00   \n",
       "4  2022-03-04 22:13:00+00:00   \n",
       "5  2022-03-04 22:34:10+00:00   \n",
       "\n",
       "                                              content      source_name  \\\n",
       "id                                                                       \n",
       "1   The dominos are continuing to fall across the ...       CBS Sports   \n",
       "2   Russia is poised to deploy up to 1,000 more me...              CNN   \n",
       "3   Russia is poised to deploy up to 1,000 more me...              CNN   \n",
       "4   WASHINGTON, March 4 (Reuters) - Smartphone mak...          Reuters   \n",
       "5   Ron Schwane/Associated Press\\r\\nMuch like Coop...  Bleacher Report   \n",
       "\n",
       "    predicted_score_when_presented  assigned_score  is_test_record  \n",
       "id                                                                  \n",
       "1                               50            -999               0  \n",
       "2                               50            -999               1  \n",
       "3                               50              95               0  \n",
       "4                               50              50               1  \n",
       "5                               50               0               0  "
      ]
     },
     "execution_count": 5,
     "metadata": {},
     "output_type": "execute_result"
    }
   ],
   "source": [
    "articles.head()"
   ]
  },
  {
   "cell_type": "code",
   "execution_count": 6,
   "id": "7d91b03d-da91-4da2-8141-94896c92880a",
   "metadata": {},
   "outputs": [
    {
     "name": "stdout",
     "output_type": "stream",
     "text": [
      "2 rows dropped.\n"
     ]
    }
   ],
   "source": [
    "# drop dummy records\n",
    "\n",
    "n_rows_bef = len(articles)\n",
    "articles = articles[articles['assigned_score']!=-999]\n",
    "n_rows_after = len(articles)\n",
    "print(f'{n_rows_bef - n_rows_after} rows dropped.')"
   ]
  },
  {
   "cell_type": "code",
   "execution_count": 7,
   "id": "3f6a2cd3-d649-49f3-bc73-5660df12a77b",
   "metadata": {},
   "outputs": [
    {
     "name": "stdout",
     "output_type": "stream",
     "text": [
      "0 rows dropped.\n"
     ]
    }
   ],
   "source": [
    "# drop duplicates\n",
    "\n",
    "n_rows_bef = len(articles)\n",
    "articles = articles.drop_duplicates(subset=['title', 'published_at'])\n",
    "n_rows_after = len(articles)\n",
    "print(f'{n_rows_bef - n_rows_after} rows dropped.')"
   ]
  },
  {
   "cell_type": "code",
   "execution_count": 8,
   "id": "6bbc84d4-afa7-4460-a7ea-816149d5b896",
   "metadata": {},
   "outputs": [
    {
     "name": "stdout",
     "output_type": "stream",
     "text": [
      "Number of training records: 11\n",
      "Number of test records: 11\n"
     ]
    }
   ],
   "source": [
    "training = articles[articles['is_test_record']==0]\n",
    "test = articles[articles['is_test_record']==1]\n",
    "\n",
    "print(f'Number of training records: {len(training)}')\n",
    "print(f'Number of test records: {len(test)}')"
   ]
  },
  {
   "cell_type": "markdown",
   "id": "cbc9a7b9-45f0-4927-8dc5-384f7d96e98b",
   "metadata": {},
   "source": [
    "# EDA"
   ]
  },
  {
   "cell_type": "code",
   "execution_count": 9,
   "id": "65d1e8af-9c9f-40e8-8b49-bb4bf9605271",
   "metadata": {},
   "outputs": [
    {
     "data": {
      "text/plain": [
       "<AxesSubplot:xlabel='assigned_score', ylabel='Count'>"
      ]
     },
     "execution_count": 9,
     "metadata": {},
     "output_type": "execute_result"
    },
    {
     "data": {
      "image/png": "[encoded data removed]",
      "text/plain": [
       "<Figure size 432x288 with 1 Axes>"
      ]
     },
     "metadata": {
      "needs_background": "light"
     },
     "output_type": "display_data"
    }
   ],
   "source": [
    "sns.histplot(training['assigned_score'], bins=10)\n",
    "# assigned score is the target value assigned by the user"
   ]
  },
  {
   "cell_type": "markdown",
   "id": "67c93839-fe23-4762-99de-1e0236a6a6ec",
   "metadata": {},
   "source": [
    "The training set doesn't have its target values equally distributed which is to be expected by such a small set."
   ]
  },
  {
   "cell_type": "markdown",
   "id": "a91a3e77-e41b-4eea-b518-663476e62951",
   "metadata": {},
   "source": [
    "# Modeling"
   ]
  },
  {
   "cell_type": "markdown",
   "id": "234d9d95-a771-4f97-91a1-d484fe1fe7a2",
   "metadata": {},
   "source": [
    "The dataset is very small, so all results are in reality rather unreliable."
   ]
  },
  {
   "cell_type": "code",
   "execution_count": 10,
   "id": "29a93adc-4243-4034-aff1-132b62e0dae2",
   "metadata": {},
   "outputs": [],
   "source": [
    "y_train = training['assigned_score']\n",
    "y_test = test['assigned_score']"
   ]
  },
  {
   "cell_type": "code",
   "execution_count": 11,
   "id": "01577d97-238b-4f6e-ac73-39b041317998",
   "metadata": {},
   "outputs": [],
   "source": [
    "seed = 23"
   ]
  },
  {
   "cell_type": "markdown",
   "id": "6c34bd4c-5b74-4d12-96f7-0dfe326ecc5c",
   "metadata": {},
   "source": [
    "## Baseline model"
   ]
  },
  {
   "cell_type": "code",
   "execution_count": 12,
   "id": "8b4dc4b9-f0c4-4210-aa66-9003a238e701",
   "metadata": {},
   "outputs": [],
   "source": [
    "class BaselineModel:\n",
    "    \n",
    "    def train(self, y_train):\n",
    "        self.mean_y = y_train.mean()\n",
    "        \n",
    "    def predict(self, x):\n",
    "        n_preds = len(x)\n",
    "        return np.full(n_preds, self.mean_y)"
   ]
  },
  {
   "cell_type": "code",
   "execution_count": 13,
   "id": "3f28349e-4c8b-4069-937b-69b6eee15f02",
   "metadata": {},
   "outputs": [
    {
     "name": "stdout",
     "output_type": "stream",
     "text": [
      "MAE for the baseline model : 24.88\n"
     ]
    }
   ],
   "source": [
    "model = BaselineModel()\n",
    "model.train(y_train)\n",
    "y_pred = model.predict(test)\n",
    "\n",
    "bl_mae = mean_absolute_error(y_pred, y_test)\n",
    "print(f'MAE for the baseline model : {round(bl_mae, 2)}')"
   ]
  },
  {
   "cell_type": "markdown",
   "id": "4c608a4a-cb1d-4591-a322-bf6cea030c07",
   "metadata": {},
   "source": [
    "## Current model"
   ]
  },
  {
   "cell_type": "code",
   "execution_count": 14,
   "id": "03025c7c-4af8-4415-880c-9cea0879b9cd",
   "metadata": {},
   "outputs": [],
   "source": [
    "feature_cols = ['author', 'source_name']"
   ]
  },
  {
   "cell_type": "code",
   "execution_count": 15,
   "id": "d2ae56db-bf8c-4cba-8d24-7b5b23c7a145",
   "metadata": {},
   "outputs": [],
   "source": [
    "x_test = test[feature_cols]\n",
    "\n",
    "encoder = pickle.load(open('source_encoder.pkl', 'rb'))\n",
    "x_test = encoder.transform(x_test)"
   ]
  },
  {
   "cell_type": "code",
   "execution_count": 16,
   "id": "fecb4c88-f062-48fc-a32d-e836048c5ddb",
   "metadata": {},
   "outputs": [
    {
     "name": "stdout",
     "output_type": "stream",
     "text": [
      "MAE for the model currently in production: 25.18\n"
     ]
    }
   ],
   "source": [
    "model = pickle.load(open('ml_model.pkl', 'rb'))\n",
    "y_pred = model.predict(x_test)\n",
    "\n",
    "cur_mae = mean_absolute_error(y_pred, y_test)\n",
    "print(f'MAE for the model currently in production: {round(cur_mae, 2)}')"
   ]
  },
  {
   "cell_type": "markdown",
   "id": "fea4cbee-8d18-4259-bf7b-481b53c88490",
   "metadata": {},
   "source": [
    "## Current model - retrained"
   ]
  },
  {
   "cell_type": "code",
   "execution_count": 17,
   "id": "1b51cedf-83a1-40c7-ad03-49946c0761ea",
   "metadata": {},
   "outputs": [],
   "source": [
    "x_train = training[feature_cols]\n",
    "x_test = test[feature_cols]\n",
    "\n",
    "encoder = OrdinalEncoder(handle_unknown='use_encoded_value', unknown_value=999)\n",
    "encoder.fit(x_train)\n",
    "\n",
    "x_train = encoder.transform(x_train)\n",
    "x_test = encoder.transform(x_test)"
   ]
  },
  {
   "cell_type": "code",
   "execution_count": 18,
   "id": "c369fbcf-e136-4ee0-9a25-745a78412b2d",
   "metadata": {},
   "outputs": [
    {
     "name": "stdout",
     "output_type": "stream",
     "text": [
      "MAE for the retrained model: 50.64\n"
     ]
    }
   ],
   "source": [
    "model = DecisionTreeRegressor(random_state=seed)\n",
    "model.fit(x_train, y_train)\n",
    "y_pred = model.predict(x_test)\n",
    "\n",
    "rt_mae = mean_absolute_error(y_pred, y_test)\n",
    "print(f'MAE for the retrained model: {round(rt_mae, 2)}')"
   ]
  },
  {
   "cell_type": "code",
   "execution_count": 19,
   "id": "16459c08-8dea-451d-919e-a1d2a5fe0e86",
   "metadata": {},
   "outputs": [
    {
     "name": "stdout",
     "output_type": "stream",
     "text": [
      "Training set MAE for the retrained model: 0.64\n"
     ]
    }
   ],
   "source": [
    "y_pred = model.predict(x_train)\n",
    "rt_mae_train = mean_absolute_error(y_pred, y_train)\n",
    "print(f'Training set MAE for the retrained model: {round(rt_mae_train, 2)}')"
   ]
  },
  {
   "cell_type": "markdown",
   "id": "0cc1d068-c6a8-4b10-ad8e-082772e44470",
   "metadata": {},
   "source": [
    "This is a clear example of overfitting."
   ]
  },
  {
   "cell_type": "markdown",
   "id": "51069360-c528-4dca-8e1d-ef90ce84f7d8",
   "metadata": {},
   "source": [
    "## New max_depth value"
   ]
  },
  {
   "cell_type": "code",
   "execution_count": 20,
   "id": "9f641809-81c5-42a0-9cfa-cdc963fab092",
   "metadata": {},
   "outputs": [],
   "source": [
    "x_train = training[feature_cols]\n",
    "x_test = test[feature_cols]\n",
    "\n",
    "encoder = OrdinalEncoder(handle_unknown='use_encoded_value', unknown_value=999)\n",
    "encoder.fit(x_train)\n",
    "\n",
    "x_train = encoder.transform(x_train)\n",
    "x_test = encoder.transform(x_test)"
   ]
  },
  {
   "cell_type": "code",
   "execution_count": 21,
   "id": "a9ebce5f-6397-4fd9-9eae-da4880793317",
   "metadata": {},
   "outputs": [],
   "source": [
    "params = {\n",
    "    'max_depth': (1, 2, 3, 4, 5, None)\n",
    "}\n",
    "\n",
    "model = DecisionTreeRegressor(random_state=seed)\n",
    "grid = GridSearchCV(model, params, scoring='neg_mean_absolute_error')\n",
    "grid.fit(x_train, y_train)\n",
    "results = pd.DataFrame(grid.cv_results_)"
   ]
  },
  {
   "cell_type": "code",
   "execution_count": 22,
   "id": "fae92b6f-ec83-47ac-8fc8-5ba1f85edc67",
   "metadata": {},
   "outputs": [
    {
     "data": {
      "text/plain": [
       "{'max_depth': 1}"
      ]
     },
     "execution_count": 22,
     "metadata": {},
     "output_type": "execute_result"
    }
   ],
   "source": [
    "grid.best_params_"
   ]
  },
  {
   "cell_type": "code",
   "execution_count": 23,
   "id": "036c2b51-ce00-469d-b1a4-aa6c383fa41d",
   "metadata": {},
   "outputs": [
    {
     "data": {
      "text/html": [
       "<div>\n",
       "<style scoped>\n",
       "    .dataframe tbody tr th:only-of-type {\n",
       "        vertical-align: middle;\n",
       "    }\n",
       "\n",
       "    .dataframe tbody tr th {\n",
       "        vertical-align: top;\n",
       "    }\n",
       "\n",
       "    .dataframe thead th {\n",
       "        text-align: right;\n",
       "    }\n",
       "</style>\n",
       "<table border=\"1\" class=\"dataframe\">\n",
       "  <thead>\n",
       "    <tr style=\"text-align: right;\">\n",
       "      <th></th>\n",
       "      <th>mean_fit_time</th>\n",
       "      <th>std_fit_time</th>\n",
       "      <th>mean_score_time</th>\n",
       "      <th>std_score_time</th>\n",
       "      <th>param_max_depth</th>\n",
       "      <th>params</th>\n",
       "      <th>split0_test_score</th>\n",
       "      <th>split1_test_score</th>\n",
       "      <th>split2_test_score</th>\n",
       "      <th>split3_test_score</th>\n",
       "      <th>split4_test_score</th>\n",
       "      <th>mean_test_score</th>\n",
       "      <th>std_test_score</th>\n",
       "      <th>rank_test_score</th>\n",
       "    </tr>\n",
       "  </thead>\n",
       "  <tbody>\n",
       "    <tr>\n",
       "      <th>0</th>\n",
       "      <td>0.000397</td>\n",
       "      <td>1.983645e-04</td>\n",
       "      <td>0.000298</td>\n",
       "      <td>0.000243</td>\n",
       "      <td>1</td>\n",
       "      <td>{'max_depth': 1}</td>\n",
       "      <td>-35.714286</td>\n",
       "      <td>-41.000000</td>\n",
       "      <td>-49.625000</td>\n",
       "      <td>-51.5</td>\n",
       "      <td>-41.00</td>\n",
       "      <td>-43.767857</td>\n",
       "      <td>5.903799</td>\n",
       "      <td>1</td>\n",
       "    </tr>\n",
       "    <tr>\n",
       "      <th>1</th>\n",
       "      <td>0.000297</td>\n",
       "      <td>2.428297e-04</td>\n",
       "      <td>0.000198</td>\n",
       "      <td>0.000243</td>\n",
       "      <td>2</td>\n",
       "      <td>{'max_depth': 2}</td>\n",
       "      <td>-50.888889</td>\n",
       "      <td>-45.428571</td>\n",
       "      <td>-53.571429</td>\n",
       "      <td>-51.5</td>\n",
       "      <td>-41.00</td>\n",
       "      <td>-48.477778</td>\n",
       "      <td>4.606677</td>\n",
       "      <td>2</td>\n",
       "    </tr>\n",
       "    <tr>\n",
       "      <th>2</th>\n",
       "      <td>0.000496</td>\n",
       "      <td>5.436780e-07</td>\n",
       "      <td>0.000198</td>\n",
       "      <td>0.000243</td>\n",
       "      <td>3</td>\n",
       "      <td>{'max_depth': 3}</td>\n",
       "      <td>-41.333333</td>\n",
       "      <td>-57.250000</td>\n",
       "      <td>-60.000000</td>\n",
       "      <td>-51.5</td>\n",
       "      <td>-41.00</td>\n",
       "      <td>-50.216667</td>\n",
       "      <td>7.882752</td>\n",
       "      <td>3</td>\n",
       "    </tr>\n",
       "    <tr>\n",
       "      <th>3</th>\n",
       "      <td>0.000496</td>\n",
       "      <td>5.917394e-07</td>\n",
       "      <td>0.000099</td>\n",
       "      <td>0.000198</td>\n",
       "      <td>4</td>\n",
       "      <td>{'max_depth': 4}</td>\n",
       "      <td>-50.333333</td>\n",
       "      <td>-57.500000</td>\n",
       "      <td>-63.500000</td>\n",
       "      <td>-51.5</td>\n",
       "      <td>-34.75</td>\n",
       "      <td>-51.516667</td>\n",
       "      <td>9.611683</td>\n",
       "      <td>4</td>\n",
       "    </tr>\n",
       "    <tr>\n",
       "      <th>4</th>\n",
       "      <td>0.000298</td>\n",
       "      <td>2.430625e-04</td>\n",
       "      <td>0.000198</td>\n",
       "      <td>0.000243</td>\n",
       "      <td>5</td>\n",
       "      <td>{'max_depth': 5}</td>\n",
       "      <td>-50.333333</td>\n",
       "      <td>-57.500000</td>\n",
       "      <td>-69.500000</td>\n",
       "      <td>-51.5</td>\n",
       "      <td>-30.75</td>\n",
       "      <td>-51.916667</td>\n",
       "      <td>12.578200</td>\n",
       "      <td>5</td>\n",
       "    </tr>\n",
       "    <tr>\n",
       "      <th>5</th>\n",
       "      <td>0.000397</td>\n",
       "      <td>1.984120e-04</td>\n",
       "      <td>0.000099</td>\n",
       "      <td>0.000198</td>\n",
       "      <td>None</td>\n",
       "      <td>{'max_depth': None}</td>\n",
       "      <td>-50.333333</td>\n",
       "      <td>-57.500000</td>\n",
       "      <td>-69.500000</td>\n",
       "      <td>-51.5</td>\n",
       "      <td>-30.75</td>\n",
       "      <td>-51.916667</td>\n",
       "      <td>12.578200</td>\n",
       "      <td>5</td>\n",
       "    </tr>\n",
       "  </tbody>\n",
       "</table>\n",
       "</div>"
      ],
      "text/plain": [
       "   mean_fit_time  std_fit_time  mean_score_time  std_score_time  \\\n",
       "0       0.000397  1.983645e-04         0.000298        0.000243   \n",
       "1       0.000297  2.428297e-04         0.000198        0.000243   \n",
       "2       0.000496  5.436780e-07         0.000198        0.000243   \n",
       "3       0.000496  5.917394e-07         0.000099        0.000198   \n",
       "4       0.000298  2.430625e-04         0.000198        0.000243   \n",
       "5       0.000397  1.984120e-04         0.000099        0.000198   \n",
       "\n",
       "  param_max_depth               params  split0_test_score  split1_test_score  \\\n",
       "0               1     {'max_depth': 1}         -35.714286         -41.000000   \n",
       "1               2     {'max_depth': 2}         -50.888889         -45.428571   \n",
       "2               3     {'max_depth': 3}         -41.333333         -57.250000   \n",
       "3               4     {'max_depth': 4}         -50.333333         -57.500000   \n",
       "4               5     {'max_depth': 5}         -50.333333         -57.500000   \n",
       "5            None  {'max_depth': None}         -50.333333         -57.500000   \n",
       "\n",
       "   split2_test_score  split3_test_score  split4_test_score  mean_test_score  \\\n",
       "0         -49.625000              -51.5             -41.00       -43.767857   \n",
       "1         -53.571429              -51.5             -41.00       -48.477778   \n",
       "2         -60.000000              -51.5             -41.00       -50.216667   \n",
       "3         -63.500000              -51.5             -34.75       -51.516667   \n",
       "4         -69.500000              -51.5             -30.75       -51.916667   \n",
       "5         -69.500000              -51.5             -30.75       -51.916667   \n",
       "\n",
       "   std_test_score  rank_test_score  \n",
       "0        5.903799                1  \n",
       "1        4.606677                2  \n",
       "2        7.882752                3  \n",
       "3        9.611683                4  \n",
       "4       12.578200                5  \n",
       "5       12.578200                5  "
      ]
     },
     "execution_count": 23,
     "metadata": {},
     "output_type": "execute_result"
    }
   ],
   "source": [
    "results"
   ]
  }
 ],
 "metadata": {
  "kernelspec": {
   "display_name": "Python 3 (ipykernel)",
   "language": "python",
   "name": "python3"
  },
  "language_info": {
   "codemirror_mode": {
    "name": "ipython",
    "version": 3
   },
   "file_extension": ".py",
   "mimetype": "text/x-python",
   "name": "python",
   "nbconvert_exporter": "python",
   "pygments_lexer": "ipython3",
   "version": "3.9.7"
  }
 },
 "nbformat": 4,
 "nbformat_minor": 5
}
