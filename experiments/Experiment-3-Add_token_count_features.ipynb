{
 "cells": [
  {
   "cell_type": "markdown",
   "id": "68dcbbbc-4646-4cb2-b5db-b39093c83ed8",
   "metadata": {},
   "source": [
    "# Summary"
   ]
  },
  {
   "cell_type": "markdown",
   "id": "21e4d7c3-066b-43aa-a5fb-984bfa930cce",
   "metadata": {},
   "source": [
    "A new set of features is being engineered in order to be fed into a new model. The features are token counts calculated on article titles and content excerpts combined together.\n",
    "\n",
    "Model containing the new features is clearly better than both the baseline model and the model currently in production (even after retraining)."
   ]
  },
  {
   "cell_type": "markdown",
   "id": "be242d2b-5a0f-4c00-95be-3081b032de02",
   "metadata": {},
   "source": [
    "# Setup"
   ]
  },
  {
   "cell_type": "code",
   "execution_count": 1,
   "id": "c6c77b9a-7268-48c2-b9da-fabc5d91400a",
   "metadata": {},
   "outputs": [],
   "source": [
    "%config Completer.use_jedi = False"
   ]
  },
  {
   "cell_type": "code",
   "execution_count": 2,
   "id": "4fe33229-b222-4842-a7bf-179e7d1d4e97",
   "metadata": {},
   "outputs": [],
   "source": [
    "import sys\n",
    "import os\n",
    "import pickle\n",
    "import re\n",
    "\n",
    "import numpy as np\n",
    "import pandas as pd\n",
    "import seaborn as sns\n",
    "from sklearn.metrics import mean_absolute_error\n",
    "from sklearn.preprocessing import OrdinalEncoder\n",
    "from sklearn.tree import DecisionTreeRegressor\n",
    "from sklearn.feature_extraction.text import CountVectorizer\n",
    "\n",
    "sys.path.insert(1, os.path.join(sys.path[0], '..'))\n",
    "from dataprep import db_to_df, derive_content_length"
   ]
  },
  {
   "cell_type": "markdown",
   "id": "03adc7e1-4a1e-4972-beca-9f402add62aa",
   "metadata": {},
   "source": [
    "# Data preparation"
   ]
  },
  {
   "cell_type": "code",
   "execution_count": 3,
   "id": "2a4bdd91-b2d5-4429-a033-65a554be2729",
   "metadata": {},
   "outputs": [
    {
     "name": "stdout",
     "output_type": "stream",
     "text": [
      "<class 'pandas.core.frame.DataFrame'>\n",
      "Int64Index: 73 entries, 1 to 73\n",
      "Data columns (total 9 columns):\n",
      " #   Column                          Non-Null Count  Dtype  \n",
      "---  ------                          --------------  -----  \n",
      " 0   author                          55 non-null     object \n",
      " 1   title                           73 non-null     object \n",
      " 2   url                             73 non-null     object \n",
      " 3   published_at                    73 non-null     object \n",
      " 4   content                         69 non-null     object \n",
      " 5   source_name                     73 non-null     object \n",
      " 6   predicted_score_when_presented  73 non-null     float64\n",
      " 7   assigned_score                  73 non-null     int64  \n",
      " 8   is_test_record                  73 non-null     int64  \n",
      "dtypes: float64(1), int64(2), object(6)\n",
      "memory usage: 5.7+ KB\n"
     ]
    }
   ],
   "source": [
    "articles = db_to_df(path='../site.db')\n",
    "articles.info()"
   ]
  },
  {
   "cell_type": "code",
   "execution_count": 4,
   "id": "808d54b3-9ddc-4d09-8dd1-dc521fe58684",
   "metadata": {},
   "outputs": [],
   "source": [
    "articles['published_at'] = pd.to_datetime(articles['published_at'])"
   ]
  },
  {
   "cell_type": "code",
   "execution_count": 5,
   "id": "67a5d97b-bfc7-4bab-8307-0d689220056a",
   "metadata": {},
   "outputs": [
    {
     "data": {
      "text/html": [
       "<div>\n",
       "<style scoped>\n",
       "    .dataframe tbody tr th:only-of-type {\n",
       "        vertical-align: middle;\n",
       "    }\n",
       "\n",
       "    .dataframe tbody tr th {\n",
       "        vertical-align: top;\n",
       "    }\n",
       "\n",
       "    .dataframe thead th {\n",
       "        text-align: right;\n",
       "    }\n",
       "</style>\n",
       "<table border=\"1\" class=\"dataframe\">\n",
       "  <thead>\n",
       "    <tr style=\"text-align: right;\">\n",
       "      <th></th>\n",
       "      <th>author</th>\n",
       "      <th>title</th>\n",
       "      <th>url</th>\n",
       "      <th>published_at</th>\n",
       "      <th>content</th>\n",
       "      <th>source_name</th>\n",
       "      <th>predicted_score_when_presented</th>\n",
       "      <th>assigned_score</th>\n",
       "      <th>is_test_record</th>\n",
       "    </tr>\n",
       "    <tr>\n",
       "      <th>id</th>\n",
       "      <th></th>\n",
       "      <th></th>\n",
       "      <th></th>\n",
       "      <th></th>\n",
       "      <th></th>\n",
       "      <th></th>\n",
       "      <th></th>\n",
       "      <th></th>\n",
       "      <th></th>\n",
       "    </tr>\n",
       "  </thead>\n",
       "  <tbody>\n",
       "    <tr>\n",
       "      <th>1</th>\n",
       "      <td>Tyler Sullivan</td>\n",
       "      <td>2022 NFL Free Agency tracker: Live updates, la...</td>\n",
       "      <td>https://www.cbssports.com/nfl/news/2022-nfl-fr...</td>\n",
       "      <td>2022-03-15 14:35:03+00:00</td>\n",
       "      <td>The dominos are continuing to fall across the ...</td>\n",
       "      <td>CBS Sports</td>\n",
       "      <td>50.0</td>\n",
       "      <td>-999</td>\n",
       "      <td>0</td>\n",
       "    </tr>\n",
       "    <tr>\n",
       "      <th>2</th>\n",
       "      <td>By &lt;a href=\"/profiles/jessie-yeung\"&gt;Jessie Yeu...</td>\n",
       "      <td>Russia invades Ukraine: Live updates - CNN</td>\n",
       "      <td>https://www.cnn.com/europe/live-news/ukraine-r...</td>\n",
       "      <td>2022-03-05 06:27:00+00:00</td>\n",
       "      <td>Russia is poised to deploy up to 1,000 more me...</td>\n",
       "      <td>CNN</td>\n",
       "      <td>50.0</td>\n",
       "      <td>-999</td>\n",
       "      <td>1</td>\n",
       "    </tr>\n",
       "    <tr>\n",
       "      <th>3</th>\n",
       "      <td>By &lt;a href=\"/profiles/jessie-yeung\"&gt;Jessie Yeu...</td>\n",
       "      <td>Russia invades Ukraine: Live updates - CNN</td>\n",
       "      <td>https://www.cnn.com/europe/live-news/ukraine-r...</td>\n",
       "      <td>2022-03-05 06:27:00+00:00</td>\n",
       "      <td>Russia is poised to deploy up to 1,000 more me...</td>\n",
       "      <td>CNN</td>\n",
       "      <td>50.0</td>\n",
       "      <td>95</td>\n",
       "      <td>0</td>\n",
       "    </tr>\n",
       "    <tr>\n",
       "      <th>4</th>\n",
       "      <td>None</td>\n",
       "      <td>Apple presses U.S. lawmakers on dangers of 'si...</td>\n",
       "      <td>https://www.reuters.com/technology/apple-press...</td>\n",
       "      <td>2022-03-04 22:13:00+00:00</td>\n",
       "      <td>WASHINGTON, March 4 (Reuters) - Smartphone mak...</td>\n",
       "      <td>Reuters</td>\n",
       "      <td>50.0</td>\n",
       "      <td>50</td>\n",
       "      <td>1</td>\n",
       "    </tr>\n",
       "    <tr>\n",
       "      <th>5</th>\n",
       "      <td>Brent Sobleski</td>\n",
       "      <td>Top 5 Potential Landing Spots for Dallas Cowbo...</td>\n",
       "      <td>https://bleacherreport.com/articles/2954024-to...</td>\n",
       "      <td>2022-03-04 22:34:10+00:00</td>\n",
       "      <td>Ron Schwane/Associated Press\\r\\nMuch like Coop...</td>\n",
       "      <td>Bleacher Report</td>\n",
       "      <td>50.0</td>\n",
       "      <td>0</td>\n",
       "      <td>0</td>\n",
       "    </tr>\n",
       "  </tbody>\n",
       "</table>\n",
       "</div>"
      ],
      "text/plain": [
       "                                               author  \\\n",
       "id                                                      \n",
       "1                                      Tyler Sullivan   \n",
       "2   By <a href=\"/profiles/jessie-yeung\">Jessie Yeu...   \n",
       "3   By <a href=\"/profiles/jessie-yeung\">Jessie Yeu...   \n",
       "4                                                None   \n",
       "5                                      Brent Sobleski   \n",
       "\n",
       "                                                title  \\\n",
       "id                                                      \n",
       "1   2022 NFL Free Agency tracker: Live updates, la...   \n",
       "2          Russia invades Ukraine: Live updates - CNN   \n",
       "3          Russia invades Ukraine: Live updates - CNN   \n",
       "4   Apple presses U.S. lawmakers on dangers of 'si...   \n",
       "5   Top 5 Potential Landing Spots for Dallas Cowbo...   \n",
       "\n",
       "                                                  url  \\\n",
       "id                                                      \n",
       "1   https://www.cbssports.com/nfl/news/2022-nfl-fr...   \n",
       "2   https://www.cnn.com/europe/live-news/ukraine-r...   \n",
       "3   https://www.cnn.com/europe/live-news/ukraine-r...   \n",
       "4   https://www.reuters.com/technology/apple-press...   \n",
       "5   https://bleacherreport.com/articles/2954024-to...   \n",
       "\n",
       "                published_at  \\\n",
       "id                             \n",
       "1  2022-03-15 14:35:03+00:00   \n",
       "2  2022-03-05 06:27:00+00:00   \n",
       "3  2022-03-05 06:27:00+00:00   \n",
       "4  2022-03-04 22:13:00+00:00   \n",
       "5  2022-03-04 22:34:10+00:00   \n",
       "\n",
       "                                              content      source_name  \\\n",
       "id                                                                       \n",
       "1   The dominos are continuing to fall across the ...       CBS Sports   \n",
       "2   Russia is poised to deploy up to 1,000 more me...              CNN   \n",
       "3   Russia is poised to deploy up to 1,000 more me...              CNN   \n",
       "4   WASHINGTON, March 4 (Reuters) - Smartphone mak...          Reuters   \n",
       "5   Ron Schwane/Associated Press\\r\\nMuch like Coop...  Bleacher Report   \n",
       "\n",
       "    predicted_score_when_presented  assigned_score  is_test_record  \n",
       "id                                                                  \n",
       "1                             50.0            -999               0  \n",
       "2                             50.0            -999               1  \n",
       "3                             50.0              95               0  \n",
       "4                             50.0              50               1  \n",
       "5                             50.0               0               0  "
      ]
     },
     "execution_count": 5,
     "metadata": {},
     "output_type": "execute_result"
    }
   ],
   "source": [
    "articles.head()"
   ]
  },
  {
   "cell_type": "code",
   "execution_count": 6,
   "id": "7d91b03d-da91-4da2-8141-94896c92880a",
   "metadata": {},
   "outputs": [
    {
     "name": "stdout",
     "output_type": "stream",
     "text": [
      "3 rows dropped.\n"
     ]
    }
   ],
   "source": [
    "# drop dummy records\n",
    "\n",
    "n_rows_bef = len(articles)\n",
    "articles = articles[articles['assigned_score']!=-999]\n",
    "n_rows_after = len(articles)\n",
    "print(f'{n_rows_bef - n_rows_after} rows dropped.')"
   ]
  },
  {
   "cell_type": "code",
   "execution_count": 7,
   "id": "3f6a2cd3-d649-49f3-bc73-5660df12a77b",
   "metadata": {},
   "outputs": [
    {
     "name": "stdout",
     "output_type": "stream",
     "text": [
      "0 rows dropped.\n"
     ]
    }
   ],
   "source": [
    "# drop duplicates\n",
    "\n",
    "n_rows_bef = len(articles)\n",
    "articles = articles.drop_duplicates(subset=['title', 'published_at'])\n",
    "n_rows_after = len(articles)\n",
    "print(f'{n_rows_bef - n_rows_after} rows dropped.')"
   ]
  },
  {
   "cell_type": "code",
   "execution_count": 8,
   "id": "db62f4ed-b445-4edd-9106-acbc260d6279",
   "metadata": {},
   "outputs": [
    {
     "name": "stdout",
     "output_type": "stream",
     "text": [
      "4 rows dropped.\n"
     ]
    }
   ],
   "source": [
    "# drop records with no content\n",
    "\n",
    "n_rows_bef = len(articles)\n",
    "articles.dropna(subset='content', inplace=True)\n",
    "n_rows_after = len(articles)\n",
    "print(f'{n_rows_bef - n_rows_after} rows dropped.')"
   ]
  },
  {
   "cell_type": "code",
   "execution_count": 9,
   "id": "e7b253cc-28eb-48cc-82ab-ba520575b7e9",
   "metadata": {},
   "outputs": [],
   "source": [
    "articles['content_length_chars'] = articles.apply(derive_content_length, axis=1)"
   ]
  },
  {
   "cell_type": "code",
   "execution_count": 10,
   "id": "636373d6-3cd6-4e9a-ad2d-cb4183abe844",
   "metadata": {},
   "outputs": [
    {
     "name": "stdout",
     "output_type": "stream",
     "text": [
      "1 rows dropped.\n"
     ]
    }
   ],
   "source": [
    "# drop records with no content length\n",
    "\n",
    "n_rows_bef = len(articles)\n",
    "articles.dropna(subset='content_length_chars', inplace=True)\n",
    "n_rows_after = len(articles)\n",
    "print(f'{n_rows_bef - n_rows_after} rows dropped.')"
   ]
  },
  {
   "cell_type": "code",
   "execution_count": 11,
   "id": "6bbc84d4-afa7-4460-a7ea-816149d5b896",
   "metadata": {},
   "outputs": [
    {
     "name": "stdout",
     "output_type": "stream",
     "text": [
      "Number of training records: 32\n",
      "Number of test records: 33\n"
     ]
    }
   ],
   "source": [
    "training = articles[articles['is_test_record']==0].copy()\n",
    "test = articles[articles['is_test_record']==1].copy()\n",
    "\n",
    "print(f'Number of training records: {len(training)}')\n",
    "print(f'Number of test records: {len(test)}')"
   ]
  },
  {
   "cell_type": "markdown",
   "id": "2c5a9373-005f-4e96-9bbd-76760a6e54bf",
   "metadata": {},
   "source": [
    "## Adding token counts"
   ]
  },
  {
   "cell_type": "code",
   "execution_count": 12,
   "id": "69a57a1e-eed1-4cc7-b3ea-a82fc1db9a6b",
   "metadata": {},
   "outputs": [],
   "source": [
    "vectorizer = CountVectorizer()"
   ]
  },
  {
   "cell_type": "code",
   "execution_count": 13,
   "id": "61ea4b99-6673-4ac4-9907-c6dd96bf9dd2",
   "metadata": {},
   "outputs": [],
   "source": [
    "training['title_plus_content'] = training['title'] + training['content']"
   ]
  },
  {
   "cell_type": "code",
   "execution_count": 14,
   "id": "f0cc2df1-fda5-4392-95d5-e28f9c38e236",
   "metadata": {},
   "outputs": [
    {
     "data": {
      "text/plain": [
       "CountVectorizer()"
      ]
     },
     "execution_count": 14,
     "metadata": {},
     "output_type": "execute_result"
    }
   ],
   "source": [
    "vectorizer.fit(training['title_plus_content'])"
   ]
  },
  {
   "cell_type": "code",
   "execution_count": 15,
   "id": "c13254b9-6304-402b-9d23-285386055010",
   "metadata": {},
   "outputs": [
    {
     "data": {
      "text/plain": [
       "['token_count_000',\n",
       " 'token_count_10',\n",
       " 'token_count_100',\n",
       " 'token_count_1098',\n",
       " 'token_count_1174']"
      ]
     },
     "execution_count": 15,
     "metadata": {},
     "output_type": "execute_result"
    }
   ],
   "source": [
    "token_cols = vectorizer.get_feature_names_out()\n",
    "token_cols = ['token_count_' + token for token in token_cols]\n",
    "token_cols[:5]"
   ]
  },
  {
   "cell_type": "code",
   "execution_count": 16,
   "id": "3c156d8c-a58e-41e7-a798-d5c192e63ef4",
   "metadata": {},
   "outputs": [
    {
     "data": {
      "text/html": [
       "<div>\n",
       "<style scoped>\n",
       "    .dataframe tbody tr th:only-of-type {\n",
       "        vertical-align: middle;\n",
       "    }\n",
       "\n",
       "    .dataframe tbody tr th {\n",
       "        vertical-align: top;\n",
       "    }\n",
       "\n",
       "    .dataframe thead th {\n",
       "        text-align: right;\n",
       "    }\n",
       "</style>\n",
       "<table border=\"1\" class=\"dataframe\">\n",
       "  <thead>\n",
       "    <tr style=\"text-align: right;\">\n",
       "      <th></th>\n",
       "      <th>token_count_000</th>\n",
       "      <th>token_count_10</th>\n",
       "      <th>token_count_100</th>\n",
       "      <th>token_count_1098</th>\n",
       "      <th>token_count_1174</th>\n",
       "      <th>token_count_1259</th>\n",
       "      <th>token_count_13162</th>\n",
       "      <th>token_count_140mm</th>\n",
       "      <th>token_count_1425</th>\n",
       "      <th>token_count_1474</th>\n",
       "      <th>...</th>\n",
       "      <th>token_count_would</th>\n",
       "      <th>token_count_wr</th>\n",
       "      <th>token_count_year</th>\n",
       "      <th>token_count_years</th>\n",
       "      <th>token_count_york</th>\n",
       "      <th>token_count_you</th>\n",
       "      <th>token_count_young</th>\n",
       "      <th>token_count_your</th>\n",
       "      <th>token_count_zelenskiy</th>\n",
       "      <th>token_count_zone</th>\n",
       "    </tr>\n",
       "  </thead>\n",
       "  <tbody>\n",
       "    <tr>\n",
       "      <th>0</th>\n",
       "      <td>1</td>\n",
       "      <td>0</td>\n",
       "      <td>0</td>\n",
       "      <td>0</td>\n",
       "      <td>0</td>\n",
       "      <td>0</td>\n",
       "      <td>0</td>\n",
       "      <td>0</td>\n",
       "      <td>0</td>\n",
       "      <td>0</td>\n",
       "      <td>...</td>\n",
       "      <td>0</td>\n",
       "      <td>0</td>\n",
       "      <td>0</td>\n",
       "      <td>0</td>\n",
       "      <td>0</td>\n",
       "      <td>0</td>\n",
       "      <td>0</td>\n",
       "      <td>0</td>\n",
       "      <td>0</td>\n",
       "      <td>0</td>\n",
       "    </tr>\n",
       "    <tr>\n",
       "      <th>1</th>\n",
       "      <td>0</td>\n",
       "      <td>0</td>\n",
       "      <td>0</td>\n",
       "      <td>0</td>\n",
       "      <td>0</td>\n",
       "      <td>1</td>\n",
       "      <td>0</td>\n",
       "      <td>0</td>\n",
       "      <td>0</td>\n",
       "      <td>0</td>\n",
       "      <td>...</td>\n",
       "      <td>0</td>\n",
       "      <td>1</td>\n",
       "      <td>0</td>\n",
       "      <td>0</td>\n",
       "      <td>0</td>\n",
       "      <td>0</td>\n",
       "      <td>0</td>\n",
       "      <td>0</td>\n",
       "      <td>0</td>\n",
       "      <td>0</td>\n",
       "    </tr>\n",
       "    <tr>\n",
       "      <th>2</th>\n",
       "      <td>0</td>\n",
       "      <td>0</td>\n",
       "      <td>0</td>\n",
       "      <td>1</td>\n",
       "      <td>0</td>\n",
       "      <td>0</td>\n",
       "      <td>0</td>\n",
       "      <td>0</td>\n",
       "      <td>0</td>\n",
       "      <td>0</td>\n",
       "      <td>...</td>\n",
       "      <td>0</td>\n",
       "      <td>0</td>\n",
       "      <td>0</td>\n",
       "      <td>0</td>\n",
       "      <td>0</td>\n",
       "      <td>0</td>\n",
       "      <td>0</td>\n",
       "      <td>0</td>\n",
       "      <td>0</td>\n",
       "      <td>0</td>\n",
       "    </tr>\n",
       "    <tr>\n",
       "      <th>3</th>\n",
       "      <td>0</td>\n",
       "      <td>0</td>\n",
       "      <td>0</td>\n",
       "      <td>0</td>\n",
       "      <td>0</td>\n",
       "      <td>0</td>\n",
       "      <td>0</td>\n",
       "      <td>0</td>\n",
       "      <td>0</td>\n",
       "      <td>0</td>\n",
       "      <td>...</td>\n",
       "      <td>1</td>\n",
       "      <td>0</td>\n",
       "      <td>0</td>\n",
       "      <td>0</td>\n",
       "      <td>1</td>\n",
       "      <td>0</td>\n",
       "      <td>0</td>\n",
       "      <td>0</td>\n",
       "      <td>0</td>\n",
       "      <td>0</td>\n",
       "    </tr>\n",
       "    <tr>\n",
       "      <th>4</th>\n",
       "      <td>0</td>\n",
       "      <td>0</td>\n",
       "      <td>0</td>\n",
       "      <td>0</td>\n",
       "      <td>0</td>\n",
       "      <td>0</td>\n",
       "      <td>0</td>\n",
       "      <td>0</td>\n",
       "      <td>1</td>\n",
       "      <td>0</td>\n",
       "      <td>...</td>\n",
       "      <td>0</td>\n",
       "      <td>0</td>\n",
       "      <td>0</td>\n",
       "      <td>0</td>\n",
       "      <td>0</td>\n",
       "      <td>0</td>\n",
       "      <td>0</td>\n",
       "      <td>0</td>\n",
       "      <td>0</td>\n",
       "      <td>0</td>\n",
       "    </tr>\n",
       "  </tbody>\n",
       "</table>\n",
       "<p>5 rows × 765 columns</p>\n",
       "</div>"
      ],
      "text/plain": [
       "   token_count_000  token_count_10  token_count_100  token_count_1098  \\\n",
       "0                1               0                0                 0   \n",
       "1                0               0                0                 0   \n",
       "2                0               0                0                 1   \n",
       "3                0               0                0                 0   \n",
       "4                0               0                0                 0   \n",
       "\n",
       "   token_count_1174  token_count_1259  token_count_13162  token_count_140mm  \\\n",
       "0                 0                 0                  0                  0   \n",
       "1                 0                 1                  0                  0   \n",
       "2                 0                 0                  0                  0   \n",
       "3                 0                 0                  0                  0   \n",
       "4                 0                 0                  0                  0   \n",
       "\n",
       "   token_count_1425  token_count_1474  ...  token_count_would  token_count_wr  \\\n",
       "0                 0                 0  ...                  0               0   \n",
       "1                 0                 0  ...                  0               1   \n",
       "2                 0                 0  ...                  0               0   \n",
       "3                 0                 0  ...                  1               0   \n",
       "4                 1                 0  ...                  0               0   \n",
       "\n",
       "   token_count_year  token_count_years  token_count_york  token_count_you  \\\n",
       "0                 0                  0                 0                0   \n",
       "1                 0                  0                 0                0   \n",
       "2                 0                  0                 0                0   \n",
       "3                 0                  0                 1                0   \n",
       "4                 0                  0                 0                0   \n",
       "\n",
       "   token_count_young  token_count_your  token_count_zelenskiy  \\\n",
       "0                  0                 0                      0   \n",
       "1                  0                 0                      0   \n",
       "2                  0                 0                      0   \n",
       "3                  0                 0                      0   \n",
       "4                  0                 0                      0   \n",
       "\n",
       "   token_count_zone  \n",
       "0                 0  \n",
       "1                 0  \n",
       "2                 0  \n",
       "3                 0  \n",
       "4                 0  \n",
       "\n",
       "[5 rows x 765 columns]"
      ]
     },
     "execution_count": 16,
     "metadata": {},
     "output_type": "execute_result"
    }
   ],
   "source": [
    "token_vectors = vectorizer.transform(training['title_plus_content']).toarray()\n",
    "token_vectors = pd.DataFrame(token_vectors, columns=token_cols)\n",
    "token_vectors.columns = token_vectors.columns.astype(str)\n",
    "token_vectors.head()"
   ]
  },
  {
   "cell_type": "code",
   "execution_count": 17,
   "id": "09d84afa-388d-4c1b-94b6-081c32b4b7a2",
   "metadata": {},
   "outputs": [
    {
     "data": {
      "text/html": [
       "<div>\n",
       "<style scoped>\n",
       "    .dataframe tbody tr th:only-of-type {\n",
       "        vertical-align: middle;\n",
       "    }\n",
       "\n",
       "    .dataframe tbody tr th {\n",
       "        vertical-align: top;\n",
       "    }\n",
       "\n",
       "    .dataframe thead th {\n",
       "        text-align: right;\n",
       "    }\n",
       "</style>\n",
       "<table border=\"1\" class=\"dataframe\">\n",
       "  <thead>\n",
       "    <tr style=\"text-align: right;\">\n",
       "      <th></th>\n",
       "      <th>id</th>\n",
       "      <th>author</th>\n",
       "      <th>title</th>\n",
       "      <th>url</th>\n",
       "      <th>published_at</th>\n",
       "      <th>content</th>\n",
       "      <th>source_name</th>\n",
       "      <th>predicted_score_when_presented</th>\n",
       "      <th>assigned_score</th>\n",
       "      <th>is_test_record</th>\n",
       "      <th>...</th>\n",
       "      <th>token_count_would</th>\n",
       "      <th>token_count_wr</th>\n",
       "      <th>token_count_year</th>\n",
       "      <th>token_count_years</th>\n",
       "      <th>token_count_york</th>\n",
       "      <th>token_count_you</th>\n",
       "      <th>token_count_young</th>\n",
       "      <th>token_count_your</th>\n",
       "      <th>token_count_zelenskiy</th>\n",
       "      <th>token_count_zone</th>\n",
       "    </tr>\n",
       "  </thead>\n",
       "  <tbody>\n",
       "    <tr>\n",
       "      <th>0</th>\n",
       "      <td>3</td>\n",
       "      <td>By &lt;a href=\"/profiles/jessie-yeung\"&gt;Jessie Yeu...</td>\n",
       "      <td>Russia invades Ukraine: Live updates - CNN</td>\n",
       "      <td>https://www.cnn.com/europe/live-news/ukraine-r...</td>\n",
       "      <td>2022-03-05 06:27:00+00:00</td>\n",
       "      <td>Russia is poised to deploy up to 1,000 more me...</td>\n",
       "      <td>CNN</td>\n",
       "      <td>50.0</td>\n",
       "      <td>95</td>\n",
       "      <td>0</td>\n",
       "      <td>...</td>\n",
       "      <td>0</td>\n",
       "      <td>0</td>\n",
       "      <td>0</td>\n",
       "      <td>0</td>\n",
       "      <td>0</td>\n",
       "      <td>0</td>\n",
       "      <td>0</td>\n",
       "      <td>0</td>\n",
       "      <td>0</td>\n",
       "      <td>0</td>\n",
       "    </tr>\n",
       "    <tr>\n",
       "      <th>1</th>\n",
       "      <td>5</td>\n",
       "      <td>Brent Sobleski</td>\n",
       "      <td>Top 5 Potential Landing Spots for Dallas Cowbo...</td>\n",
       "      <td>https://bleacherreport.com/articles/2954024-to...</td>\n",
       "      <td>2022-03-04 22:34:10+00:00</td>\n",
       "      <td>Ron Schwane/Associated Press\\r\\nMuch like Coop...</td>\n",
       "      <td>Bleacher Report</td>\n",
       "      <td>50.0</td>\n",
       "      <td>0</td>\n",
       "      <td>0</td>\n",
       "      <td>...</td>\n",
       "      <td>0</td>\n",
       "      <td>1</td>\n",
       "      <td>0</td>\n",
       "      <td>0</td>\n",
       "      <td>0</td>\n",
       "      <td>0</td>\n",
       "      <td>0</td>\n",
       "      <td>0</td>\n",
       "      <td>0</td>\n",
       "      <td>0</td>\n",
       "    </tr>\n",
       "    <tr>\n",
       "      <th>2</th>\n",
       "      <td>7</td>\n",
       "      <td>Sophia Saifi, Saleem Mehsud</td>\n",
       "      <td>ISIS claims responsibility for blast killing d...</td>\n",
       "      <td>https://www.cnn.com/2022/03/04/asia/pakistan-p...</td>\n",
       "      <td>2022-03-05 08:41:00+00:00</td>\n",
       "      <td>The Islamic State (ISIS) has claimed responsib...</td>\n",
       "      <td>CNN</td>\n",
       "      <td>50.0</td>\n",
       "      <td>72</td>\n",
       "      <td>0</td>\n",
       "      <td>...</td>\n",
       "      <td>0</td>\n",
       "      <td>0</td>\n",
       "      <td>0</td>\n",
       "      <td>0</td>\n",
       "      <td>0</td>\n",
       "      <td>0</td>\n",
       "      <td>0</td>\n",
       "      <td>0</td>\n",
       "      <td>0</td>\n",
       "      <td>0</td>\n",
       "    </tr>\n",
       "    <tr>\n",
       "      <th>3</th>\n",
       "      <td>10</td>\n",
       "      <td>Emily Schmall</td>\n",
       "      <td>Build a New City or New Humans? A Utopia in In...</td>\n",
       "      <td>https://www.nytimes.com/2022/03/05/world/asia/...</td>\n",
       "      <td>2022-03-05 10:18:08+00:00</td>\n",
       "      <td>The stance of those opposed to the development...</td>\n",
       "      <td>New York Times</td>\n",
       "      <td>50.0</td>\n",
       "      <td>35</td>\n",
       "      <td>0</td>\n",
       "      <td>...</td>\n",
       "      <td>1</td>\n",
       "      <td>0</td>\n",
       "      <td>0</td>\n",
       "      <td>0</td>\n",
       "      <td>1</td>\n",
       "      <td>0</td>\n",
       "      <td>0</td>\n",
       "      <td>0</td>\n",
       "      <td>0</td>\n",
       "      <td>0</td>\n",
       "    </tr>\n",
       "    <tr>\n",
       "      <th>4</th>\n",
       "      <td>12</td>\n",
       "      <td>Sam Tabahriti</td>\n",
       "      <td>Musk: Starlink won't block Russian media unles...</td>\n",
       "      <td>https://www.businessinsider.com/elon-musk-star...</td>\n",
       "      <td>2022-03-05 10:35:02+00:00</td>\n",
       "      <td>SpaceX's Elon Musk tweeted on Saturday that St...</td>\n",
       "      <td>Business Insider</td>\n",
       "      <td>50.0</td>\n",
       "      <td>55</td>\n",
       "      <td>0</td>\n",
       "      <td>...</td>\n",
       "      <td>0</td>\n",
       "      <td>0</td>\n",
       "      <td>0</td>\n",
       "      <td>0</td>\n",
       "      <td>0</td>\n",
       "      <td>0</td>\n",
       "      <td>0</td>\n",
       "      <td>0</td>\n",
       "      <td>0</td>\n",
       "      <td>0</td>\n",
       "    </tr>\n",
       "  </tbody>\n",
       "</table>\n",
       "<p>5 rows × 777 columns</p>\n",
       "</div>"
      ],
      "text/plain": [
       "   id                                             author  \\\n",
       "0   3  By <a href=\"/profiles/jessie-yeung\">Jessie Yeu...   \n",
       "1   5                                     Brent Sobleski   \n",
       "2   7                        Sophia Saifi, Saleem Mehsud   \n",
       "3  10                                      Emily Schmall   \n",
       "4  12                                      Sam Tabahriti   \n",
       "\n",
       "                                               title  \\\n",
       "0         Russia invades Ukraine: Live updates - CNN   \n",
       "1  Top 5 Potential Landing Spots for Dallas Cowbo...   \n",
       "2  ISIS claims responsibility for blast killing d...   \n",
       "3  Build a New City or New Humans? A Utopia in In...   \n",
       "4  Musk: Starlink won't block Russian media unles...   \n",
       "\n",
       "                                                 url  \\\n",
       "0  https://www.cnn.com/europe/live-news/ukraine-r...   \n",
       "1  https://bleacherreport.com/articles/2954024-to...   \n",
       "2  https://www.cnn.com/2022/03/04/asia/pakistan-p...   \n",
       "3  https://www.nytimes.com/2022/03/05/world/asia/...   \n",
       "4  https://www.businessinsider.com/elon-musk-star...   \n",
       "\n",
       "               published_at  \\\n",
       "0 2022-03-05 06:27:00+00:00   \n",
       "1 2022-03-04 22:34:10+00:00   \n",
       "2 2022-03-05 08:41:00+00:00   \n",
       "3 2022-03-05 10:18:08+00:00   \n",
       "4 2022-03-05 10:35:02+00:00   \n",
       "\n",
       "                                             content       source_name  \\\n",
       "0  Russia is poised to deploy up to 1,000 more me...               CNN   \n",
       "1  Ron Schwane/Associated Press\\r\\nMuch like Coop...   Bleacher Report   \n",
       "2  The Islamic State (ISIS) has claimed responsib...               CNN   \n",
       "3  The stance of those opposed to the development...    New York Times   \n",
       "4  SpaceX's Elon Musk tweeted on Saturday that St...  Business Insider   \n",
       "\n",
       "   predicted_score_when_presented  assigned_score  is_test_record  ...  \\\n",
       "0                            50.0              95               0  ...   \n",
       "1                            50.0               0               0  ...   \n",
       "2                            50.0              72               0  ...   \n",
       "3                            50.0              35               0  ...   \n",
       "4                            50.0              55               0  ...   \n",
       "\n",
       "   token_count_would token_count_wr  token_count_year  token_count_years  \\\n",
       "0                  0              0                 0                  0   \n",
       "1                  0              1                 0                  0   \n",
       "2                  0              0                 0                  0   \n",
       "3                  1              0                 0                  0   \n",
       "4                  0              0                 0                  0   \n",
       "\n",
       "   token_count_york  token_count_you  token_count_young  token_count_your  \\\n",
       "0                 0                0                  0                 0   \n",
       "1                 0                0                  0                 0   \n",
       "2                 0                0                  0                 0   \n",
       "3                 1                0                  0                 0   \n",
       "4                 0                0                  0                 0   \n",
       "\n",
       "   token_count_zelenskiy  token_count_zone  \n",
       "0                      0                 0  \n",
       "1                      0                 0  \n",
       "2                      0                 0  \n",
       "3                      0                 0  \n",
       "4                      0                 0  \n",
       "\n",
       "[5 rows x 777 columns]"
      ]
     },
     "execution_count": 17,
     "metadata": {},
     "output_type": "execute_result"
    }
   ],
   "source": [
    "training.reset_index(inplace=True)\n",
    "training = pd.concat([training, token_vectors], axis=1)\n",
    "training.head()"
   ]
  },
  {
   "cell_type": "code",
   "execution_count": 18,
   "id": "942c4967-7131-4707-bb5f-eade02635fa3",
   "metadata": {},
   "outputs": [
    {
     "data": {
      "text/html": [
       "<div>\n",
       "<style scoped>\n",
       "    .dataframe tbody tr th:only-of-type {\n",
       "        vertical-align: middle;\n",
       "    }\n",
       "\n",
       "    .dataframe tbody tr th {\n",
       "        vertical-align: top;\n",
       "    }\n",
       "\n",
       "    .dataframe thead th {\n",
       "        text-align: right;\n",
       "    }\n",
       "</style>\n",
       "<table border=\"1\" class=\"dataframe\">\n",
       "  <thead>\n",
       "    <tr style=\"text-align: right;\">\n",
       "      <th></th>\n",
       "      <th>id</th>\n",
       "      <th>author</th>\n",
       "      <th>title</th>\n",
       "      <th>url</th>\n",
       "      <th>published_at</th>\n",
       "      <th>content</th>\n",
       "      <th>source_name</th>\n",
       "      <th>predicted_score_when_presented</th>\n",
       "      <th>assigned_score</th>\n",
       "      <th>is_test_record</th>\n",
       "      <th>...</th>\n",
       "      <th>token_count_would</th>\n",
       "      <th>token_count_wr</th>\n",
       "      <th>token_count_year</th>\n",
       "      <th>token_count_years</th>\n",
       "      <th>token_count_york</th>\n",
       "      <th>token_count_you</th>\n",
       "      <th>token_count_young</th>\n",
       "      <th>token_count_your</th>\n",
       "      <th>token_count_zelenskiy</th>\n",
       "      <th>token_count_zone</th>\n",
       "    </tr>\n",
       "  </thead>\n",
       "  <tbody>\n",
       "    <tr>\n",
       "      <th>0</th>\n",
       "      <td>4</td>\n",
       "      <td>None</td>\n",
       "      <td>Apple presses U.S. lawmakers on dangers of 'si...</td>\n",
       "      <td>https://www.reuters.com/technology/apple-press...</td>\n",
       "      <td>2022-03-04 22:13:00+00:00</td>\n",
       "      <td>WASHINGTON, March 4 (Reuters) - Smartphone mak...</td>\n",
       "      <td>Reuters</td>\n",
       "      <td>50.0</td>\n",
       "      <td>50</td>\n",
       "      <td>1</td>\n",
       "      <td>...</td>\n",
       "      <td>0</td>\n",
       "      <td>0</td>\n",
       "      <td>0</td>\n",
       "      <td>0</td>\n",
       "      <td>0</td>\n",
       "      <td>0</td>\n",
       "      <td>0</td>\n",
       "      <td>0</td>\n",
       "      <td>0</td>\n",
       "      <td>0</td>\n",
       "    </tr>\n",
       "    <tr>\n",
       "      <th>1</th>\n",
       "      <td>6</td>\n",
       "      <td>None</td>\n",
       "      <td>Evacuations halted as Ukraine accuses Russia o...</td>\n",
       "      <td>https://www.cbsnews.com/live-updates/russia-uk...</td>\n",
       "      <td>2022-03-05 14:06:00+00:00</td>\n",
       "      <td>A cease-fire was planned in the strategic port...</td>\n",
       "      <td>CBS News</td>\n",
       "      <td>50.0</td>\n",
       "      <td>90</td>\n",
       "      <td>1</td>\n",
       "      <td>...</td>\n",
       "      <td>0</td>\n",
       "      <td>0</td>\n",
       "      <td>0</td>\n",
       "      <td>0</td>\n",
       "      <td>0</td>\n",
       "      <td>0</td>\n",
       "      <td>0</td>\n",
       "      <td>0</td>\n",
       "      <td>0</td>\n",
       "      <td>0</td>\n",
       "    </tr>\n",
       "    <tr>\n",
       "      <th>2</th>\n",
       "      <td>8</td>\n",
       "      <td>The Sun</td>\n",
       "      <td>'Good Times' actor Johnny Brown dead at 84 - N...</td>\n",
       "      <td>https://nypost.com/2022/03/05/johnny-brown-goo...</td>\n",
       "      <td>2022-03-05 09:28:00+00:00</td>\n",
       "      <td>Beloved Good Times actor Johnny Brown has died...</td>\n",
       "      <td>New York Post</td>\n",
       "      <td>50.0</td>\n",
       "      <td>10</td>\n",
       "      <td>1</td>\n",
       "      <td>...</td>\n",
       "      <td>0</td>\n",
       "      <td>0</td>\n",
       "      <td>0</td>\n",
       "      <td>1</td>\n",
       "      <td>1</td>\n",
       "      <td>0</td>\n",
       "      <td>0</td>\n",
       "      <td>0</td>\n",
       "      <td>0</td>\n",
       "      <td>0</td>\n",
       "    </tr>\n",
       "    <tr>\n",
       "      <th>3</th>\n",
       "      <td>9</td>\n",
       "      <td>Michelle Hackman, Alicia Caldwell</td>\n",
       "      <td>Title 42 border policy for expelling immigrant...</td>\n",
       "      <td>https://www.wsj.com/articles/court-upholds-fed...</td>\n",
       "      <td>2022-03-05 10:01:22+00:00</td>\n",
       "      <td>WASHINGTONThe U.S. government can continue to ...</td>\n",
       "      <td>The Wall Street Journal</td>\n",
       "      <td>50.0</td>\n",
       "      <td>45</td>\n",
       "      <td>1</td>\n",
       "      <td>...</td>\n",
       "      <td>0</td>\n",
       "      <td>0</td>\n",
       "      <td>0</td>\n",
       "      <td>0</td>\n",
       "      <td>0</td>\n",
       "      <td>0</td>\n",
       "      <td>0</td>\n",
       "      <td>0</td>\n",
       "      <td>0</td>\n",
       "      <td>0</td>\n",
       "    </tr>\n",
       "    <tr>\n",
       "      <th>4</th>\n",
       "      <td>14</td>\n",
       "      <td>Marc Santora, Shashank Bengali</td>\n",
       "      <td>Ukraine-Russia War: Live News and Updates - Th...</td>\n",
       "      <td>https://www.nytimes.com/live/2022/03/06/world/...</td>\n",
       "      <td>2022-03-06 14:37:32+00:00</td>\n",
       "      <td>JERUSALEM A day after his surprise meeting at ...</td>\n",
       "      <td>New York Times</td>\n",
       "      <td>50.0</td>\n",
       "      <td>90</td>\n",
       "      <td>1</td>\n",
       "      <td>...</td>\n",
       "      <td>1</td>\n",
       "      <td>0</td>\n",
       "      <td>0</td>\n",
       "      <td>0</td>\n",
       "      <td>1</td>\n",
       "      <td>0</td>\n",
       "      <td>0</td>\n",
       "      <td>0</td>\n",
       "      <td>0</td>\n",
       "      <td>0</td>\n",
       "    </tr>\n",
       "  </tbody>\n",
       "</table>\n",
       "<p>5 rows × 777 columns</p>\n",
       "</div>"
      ],
      "text/plain": [
       "   id                             author  \\\n",
       "0   4                               None   \n",
       "1   6                               None   \n",
       "2   8                            The Sun   \n",
       "3   9  Michelle Hackman, Alicia Caldwell   \n",
       "4  14     Marc Santora, Shashank Bengali   \n",
       "\n",
       "                                               title  \\\n",
       "0  Apple presses U.S. lawmakers on dangers of 'si...   \n",
       "1  Evacuations halted as Ukraine accuses Russia o...   \n",
       "2  'Good Times' actor Johnny Brown dead at 84 - N...   \n",
       "3  Title 42 border policy for expelling immigrant...   \n",
       "4  Ukraine-Russia War: Live News and Updates - Th...   \n",
       "\n",
       "                                                 url  \\\n",
       "0  https://www.reuters.com/technology/apple-press...   \n",
       "1  https://www.cbsnews.com/live-updates/russia-uk...   \n",
       "2  https://nypost.com/2022/03/05/johnny-brown-goo...   \n",
       "3  https://www.wsj.com/articles/court-upholds-fed...   \n",
       "4  https://www.nytimes.com/live/2022/03/06/world/...   \n",
       "\n",
       "               published_at  \\\n",
       "0 2022-03-04 22:13:00+00:00   \n",
       "1 2022-03-05 14:06:00+00:00   \n",
       "2 2022-03-05 09:28:00+00:00   \n",
       "3 2022-03-05 10:01:22+00:00   \n",
       "4 2022-03-06 14:37:32+00:00   \n",
       "\n",
       "                                             content              source_name  \\\n",
       "0  WASHINGTON, March 4 (Reuters) - Smartphone mak...                  Reuters   \n",
       "1  A cease-fire was planned in the strategic port...                 CBS News   \n",
       "2  Beloved Good Times actor Johnny Brown has died...            New York Post   \n",
       "3  WASHINGTONThe U.S. government can continue to ...  The Wall Street Journal   \n",
       "4  JERUSALEM A day after his surprise meeting at ...           New York Times   \n",
       "\n",
       "   predicted_score_when_presented  assigned_score  is_test_record  ...  \\\n",
       "0                            50.0              50               1  ...   \n",
       "1                            50.0              90               1  ...   \n",
       "2                            50.0              10               1  ...   \n",
       "3                            50.0              45               1  ...   \n",
       "4                            50.0              90               1  ...   \n",
       "\n",
       "   token_count_would token_count_wr  token_count_year  token_count_years  \\\n",
       "0                  0              0                 0                  0   \n",
       "1                  0              0                 0                  0   \n",
       "2                  0              0                 0                  1   \n",
       "3                  0              0                 0                  0   \n",
       "4                  1              0                 0                  0   \n",
       "\n",
       "   token_count_york  token_count_you  token_count_young  token_count_your  \\\n",
       "0                 0                0                  0                 0   \n",
       "1                 0                0                  0                 0   \n",
       "2                 1                0                  0                 0   \n",
       "3                 0                0                  0                 0   \n",
       "4                 1                0                  0                 0   \n",
       "\n",
       "   token_count_zelenskiy  token_count_zone  \n",
       "0                      0                 0  \n",
       "1                      0                 0  \n",
       "2                      0                 0  \n",
       "3                      0                 0  \n",
       "4                      0                 0  \n",
       "\n",
       "[5 rows x 777 columns]"
      ]
     },
     "execution_count": 18,
     "metadata": {},
     "output_type": "execute_result"
    }
   ],
   "source": [
    "test['title_plus_content'] = test['title'] + test['content']\n",
    "\n",
    "token_vectors = vectorizer.transform(test['title_plus_content']).toarray()\n",
    "token_vectors = pd.DataFrame(token_vectors, columns=token_cols)\n",
    "token_vectors.columns = token_vectors.columns.astype(str)\n",
    "\n",
    "test.reset_index(inplace=True)\n",
    "test = pd.concat([test, token_vectors], axis=1)\n",
    "test.head()"
   ]
  },
  {
   "cell_type": "markdown",
   "id": "cbc9a7b9-45f0-4927-8dc5-384f7d96e98b",
   "metadata": {},
   "source": [
    "# EDA"
   ]
  },
  {
   "cell_type": "code",
   "execution_count": 19,
   "id": "65d1e8af-9c9f-40e8-8b49-bb4bf9605271",
   "metadata": {},
   "outputs": [
    {
     "data": {
      "text/plain": [
       "<AxesSubplot:xlabel='assigned_score', ylabel='Count'>"
      ]
     },
     "execution_count": 19,
     "metadata": {},
     "output_type": "execute_result"
    },
    {
     "data": {
      "image/png": "[encoded data removed]",
      "text/plain": [
       "<Figure size 432x288 with 1 Axes>"
      ]
     },
     "metadata": {
      "needs_background": "light"
     },
     "output_type": "display_data"
    }
   ],
   "source": [
    "sns.histplot(training['assigned_score'], bins=10)\n",
    "# assigned score is the target value assigned by the user"
   ]
  },
  {
   "cell_type": "markdown",
   "id": "67c93839-fe23-4762-99de-1e0236a6a6ec",
   "metadata": {},
   "source": [
    "Values between 10 and 30 as well as those between 40 and 50 seem to be very scarce in the dataset. This may impede the model's ability to predict."
   ]
  },
  {
   "cell_type": "code",
   "execution_count": 20,
   "id": "3f4d323b-9b10-4005-ade2-d9029711676e",
   "metadata": {},
   "outputs": [
    {
     "name": "stdout",
     "output_type": "stream",
     "text": [
      "32\n",
      "26\n"
     ]
    }
   ],
   "source": [
    "print(len(training))\n",
    "print(training['author'].nunique())"
   ]
  },
  {
   "cell_type": "markdown",
   "id": "4f235527-e263-44d0-a35e-871390c7720d",
   "metadata": {},
   "source": [
    "Out of 32 records, 26 have a unique author. This means the feature is not likely to be helpful for most of the records."
   ]
  },
  {
   "cell_type": "code",
   "execution_count": 21,
   "id": "2ab030c6-ddc2-4aee-91e3-7a717e9f8ebb",
   "metadata": {},
   "outputs": [
    {
     "name": "stdout",
     "output_type": "stream",
     "text": [
      "32\n",
      "19\n"
     ]
    }
   ],
   "source": [
    "print(len(training))\n",
    "print(training['source_name'].nunique())"
   ]
  },
  {
   "cell_type": "markdown",
   "id": "ee4755f9-4ec9-4ad3-883b-47dc1e9e038b",
   "metadata": {},
   "source": [
    "Out of 32 records, 19 have a unique source. This is better than authors, but still may not bring too much information. This should improve as more data is gathered as sources are much less numerous in the real world than authors. In other words, while gathering more data, it's likely that the sources will constantly reappear."
   ]
  },
  {
   "cell_type": "code",
   "execution_count": 22,
   "id": "9de3a128-2661-4a99-b210-378a4d7ac4d5",
   "metadata": {},
   "outputs": [
    {
     "data": {
      "text/plain": [
       "<AxesSubplot:xlabel='content_length_chars', ylabel='Count'>"
      ]
     },
     "execution_count": 22,
     "metadata": {},
     "output_type": "execute_result"
    },
    {
     "data": {
      "image/png": "[encoded data removed]",
      "text/plain": [
       "<Figure size 432x288 with 1 Axes>"
      ]
     },
     "metadata": {
      "needs_background": "light"
     },
     "output_type": "display_data"
    }
   ],
   "source": [
    "sns.histplot(training['content_length_chars'], bins=20)"
   ]
  },
  {
   "cell_type": "markdown",
   "id": "b6dac528-301a-49c7-b1ec-a9beb599cd6c",
   "metadata": {},
   "source": [
    "Around three quarters of articles have their length under 2000 characters."
   ]
  },
  {
   "cell_type": "code",
   "execution_count": 23,
   "id": "3f928f67-ab7a-4489-88bd-6b09a01eb175",
   "metadata": {},
   "outputs": [
    {
     "data": {
      "text/plain": [
       "<seaborn.axisgrid.FacetGrid at 0x20491b7acd0>"
      ]
     },
     "execution_count": 23,
     "metadata": {},
     "output_type": "execute_result"
    },
    {
     "data": {
      "image/png": "[encoded data removed]",
      "text/plain": [
       "<Figure size 360x360 with 1 Axes>"
      ]
     },
     "metadata": {
      "needs_background": "light"
     },
     "output_type": "display_data"
    }
   ],
   "source": [
    "sns.relplot(x='content_length_chars', y='assigned_score', data=training)"
   ]
  },
  {
   "cell_type": "code",
   "execution_count": 24,
   "id": "a092713c-0a3a-4b75-a1e7-c413c0a0f540",
   "metadata": {},
   "outputs": [
    {
     "name": "stdout",
     "output_type": "stream",
     "text": [
      "0.25\n"
     ]
    }
   ],
   "source": [
    "corr = np.corrcoef(training['content_length_chars'], training['assigned_score'])[1][0]\n",
    "print(round(corr, 2))"
   ]
  },
  {
   "cell_type": "markdown",
   "id": "b63a2e15-9d76-4a65-97ec-1cfe7e371da7",
   "metadata": {},
   "source": [
    "The correlation coefficient is small but meaningful. Looking at the plot though, it's possible that the coefficient is driven by the two outliers in the top right as almost all other data points form a vertical line."
   ]
  },
  {
   "cell_type": "markdown",
   "id": "bf894740-fc99-4e5b-aa5f-f0f5b79929d1",
   "metadata": {},
   "source": [
    "## Token counts"
   ]
  },
  {
   "cell_type": "code",
   "execution_count": 25,
   "id": "59e5f5d7-e522-4e7f-abb5-b96390b14792",
   "metadata": {},
   "outputs": [
    {
     "data": {
      "text/plain": [
       "token_count_the        63\n",
       "token_count_of         36\n",
       "token_count_chars      32\n",
       "token_count_to         29\n",
       "token_count_in         25\n",
       "token_count_and        22\n",
       "token_count_for        18\n",
       "token_count_on         15\n",
       "token_count_with       12\n",
       "token_count_from       11\n",
       "token_count_new        11\n",
       "token_count_ukraine    11\n",
       "token_count_at         10\n",
       "token_count_as         10\n",
       "token_count_that       10\n",
       "token_count_said        9\n",
       "token_count_reuters     9\n",
       "token_count_is          9\n",
       "token_count_it          8\n",
       "token_count_were        8\n",
       "token_count_has         8\n",
       "token_count_his         7\n",
       "token_count_york        7\n",
       "token_count_russia      7\n",
       "token_count_willis      6\n",
       "dtype: int64"
      ]
     },
     "execution_count": 25,
     "metadata": {},
     "output_type": "execute_result"
    }
   ],
   "source": [
    "popular_tokens = (training[token_cols]\n",
    "                  .sum()\n",
    "                  .sort_values(ascending=False)\n",
    "                  .iloc[:25]\n",
    "                 )\n",
    "\n",
    "popular_tokens"
   ]
  },
  {
   "cell_type": "markdown",
   "id": "c3a46374-2510-412e-86b9-32a4fa71bc6d",
   "metadata": {},
   "source": [
    "Almost all of the top tokens look general and not specific to any topic. Exceptions include \"Ukraine\", \"Russia\", \"York\", \"Reuters\", \"Willis\". The general tokens won't add too much information as they will likely reflect the article's length, thus repeating the information contained in another feature.\n",
    "\n",
    "Adding these general keywords to the vectorizer's stopwords list could be a potential improvement."
   ]
  },
  {
   "cell_type": "markdown",
   "id": "a91a3e77-e41b-4eea-b518-663476e62951",
   "metadata": {},
   "source": [
    "# Modeling"
   ]
  },
  {
   "cell_type": "markdown",
   "id": "234d9d95-a771-4f97-91a1-d484fe1fe7a2",
   "metadata": {},
   "source": [
    "The dataset is very small, so all results are in reality rather unreliable."
   ]
  },
  {
   "cell_type": "code",
   "execution_count": 26,
   "id": "29a93adc-4243-4034-aff1-132b62e0dae2",
   "metadata": {},
   "outputs": [],
   "source": [
    "y_train = training['assigned_score']\n",
    "y_test = test['assigned_score']"
   ]
  },
  {
   "cell_type": "code",
   "execution_count": 27,
   "id": "01577d97-238b-4f6e-ac73-39b041317998",
   "metadata": {},
   "outputs": [],
   "source": [
    "seed = 23"
   ]
  },
  {
   "cell_type": "markdown",
   "id": "6c34bd4c-5b74-4d12-96f7-0dfe326ecc5c",
   "metadata": {},
   "source": [
    "## Baseline model"
   ]
  },
  {
   "cell_type": "code",
   "execution_count": 28,
   "id": "8b4dc4b9-f0c4-4210-aa66-9003a238e701",
   "metadata": {},
   "outputs": [],
   "source": [
    "class BaselineModel:\n",
    "    \n",
    "    def train(self, y_train):\n",
    "        self.mean_y = y_train.mean()\n",
    "        \n",
    "    def predict(self, x):\n",
    "        n_preds = len(x)\n",
    "        return np.full(n_preds, self.mean_y)"
   ]
  },
  {
   "cell_type": "code",
   "execution_count": 29,
   "id": "3f28349e-4c8b-4069-937b-69b6eee15f02",
   "metadata": {},
   "outputs": [
    {
     "name": "stdout",
     "output_type": "stream",
     "text": [
      "MAE for the baseline model : 29.85\n"
     ]
    }
   ],
   "source": [
    "model = BaselineModel()\n",
    "model.train(y_train)\n",
    "y_pred = model.predict(test)\n",
    "\n",
    "bl_mae = mean_absolute_error(y_pred, y_test)\n",
    "print(f'MAE for the baseline model : {round(bl_mae, 2)}')"
   ]
  },
  {
   "cell_type": "markdown",
   "id": "4c608a4a-cb1d-4591-a322-bf6cea030c07",
   "metadata": {},
   "source": [
    "## Current model"
   ]
  },
  {
   "cell_type": "code",
   "execution_count": 30,
   "id": "03025c7c-4af8-4415-880c-9cea0879b9cd",
   "metadata": {},
   "outputs": [],
   "source": [
    "feature_cols = ['author', 'source_name', 'content_length_chars']\n",
    "cat_cols = ['author', 'source_name']"
   ]
  },
  {
   "cell_type": "code",
   "execution_count": 31,
   "id": "d2ae56db-bf8c-4cba-8d24-7b5b23c7a145",
   "metadata": {},
   "outputs": [],
   "source": [
    "x_test = test[feature_cols].copy()\n",
    "\n",
    "encoder = pickle.load(open('../source_encoder.pkl', 'rb'))\n",
    "x_test[cat_cols] = encoder.transform(x_test[cat_cols])"
   ]
  },
  {
   "cell_type": "code",
   "execution_count": 32,
   "id": "fecb4c88-f062-48fc-a32d-e836048c5ddb",
   "metadata": {},
   "outputs": [
    {
     "name": "stdout",
     "output_type": "stream",
     "text": [
      "MAE for the model currently in production: 31.08\n"
     ]
    }
   ],
   "source": [
    "model = pickle.load(open('../ml_model.pkl', 'rb'))\n",
    "y_pred = model.predict(x_test)\n",
    "\n",
    "cur_mae = mean_absolute_error(y_pred, y_test)\n",
    "print(f'MAE for the model currently in production: {round(cur_mae, 2)}')"
   ]
  },
  {
   "cell_type": "markdown",
   "id": "fea4cbee-8d18-4259-bf7b-481b53c88490",
   "metadata": {},
   "source": [
    "## Current model - retrained"
   ]
  },
  {
   "cell_type": "code",
   "execution_count": 33,
   "id": "1b51cedf-83a1-40c7-ad03-49946c0761ea",
   "metadata": {},
   "outputs": [],
   "source": [
    "x_train = training[feature_cols].copy()\n",
    "x_test = test[feature_cols].copy()\n",
    "\n",
    "encoder = OrdinalEncoder(handle_unknown='use_encoded_value', unknown_value=999)\n",
    "encoder.fit(x_train[cat_cols])\n",
    "\n",
    "x_train[cat_cols] = encoder.transform(x_train[cat_cols])\n",
    "x_test[cat_cols] = encoder.transform(x_test[cat_cols])"
   ]
  },
  {
   "cell_type": "code",
   "execution_count": 34,
   "id": "c369fbcf-e136-4ee0-9a25-745a78412b2d",
   "metadata": {},
   "outputs": [
    {
     "name": "stdout",
     "output_type": "stream",
     "text": [
      "MAE for the retrained model: 35.26\n"
     ]
    }
   ],
   "source": [
    "model = DecisionTreeRegressor(random_state=seed, max_depth=1)\n",
    "model.fit(x_train, y_train)\n",
    "y_pred = model.predict(x_test)\n",
    "\n",
    "rt_mae = mean_absolute_error(y_pred, y_test)\n",
    "print(f'MAE for the retrained model: {round(rt_mae, 2)}')"
   ]
  },
  {
   "cell_type": "code",
   "execution_count": 35,
   "id": "16459c08-8dea-451d-919e-a1d2a5fe0e86",
   "metadata": {},
   "outputs": [
    {
     "name": "stdout",
     "output_type": "stream",
     "text": [
      "Training set MAE for the retrained model: 23.5\n"
     ]
    }
   ],
   "source": [
    "y_pred = model.predict(x_train)\n",
    "rt_mae_train = mean_absolute_error(y_pred, y_train)\n",
    "print(f'Training set MAE for the retrained model: {round(rt_mae_train, 2)}')"
   ]
  },
  {
   "cell_type": "markdown",
   "id": "719a8328-f9e4-45a3-953c-28efb0392f40",
   "metadata": {},
   "source": [
    "## Adding token vectors"
   ]
  },
  {
   "cell_type": "code",
   "execution_count": 36,
   "id": "a9ce2e8f-bce3-4600-addc-06190321a234",
   "metadata": {},
   "outputs": [],
   "source": [
    "non_feature_cols = [\n",
    "    'id', \n",
    "    'title', \n",
    "    'url', \n",
    "    'published_at', \n",
    "    'content', \n",
    "    'predicted_score_when_presented', \n",
    "    'assigned_score', \n",
    "    'is_test_record', \n",
    "    'title_plus_content'\n",
    "]"
   ]
  },
  {
   "cell_type": "code",
   "execution_count": 37,
   "id": "95a0bec9-3ae3-4496-868a-92ed5024d8ac",
   "metadata": {},
   "outputs": [],
   "source": [
    "x_train = training.drop(columns=non_feature_cols).copy()\n",
    "x_test = test.drop(columns=non_feature_cols).copy()\n",
    "y_test = test['assigned_score']"
   ]
  },
  {
   "cell_type": "code",
   "execution_count": 38,
   "id": "f8c11270-9cf1-4284-a5d2-36fb4dcba465",
   "metadata": {},
   "outputs": [],
   "source": [
    "encoder = OrdinalEncoder(handle_unknown='use_encoded_value', unknown_value=999)\n",
    "encoder.fit(x_train[cat_cols])\n",
    "\n",
    "x_train[cat_cols] = encoder.transform(x_train[cat_cols])\n",
    "x_test[cat_cols] = encoder.transform(x_test[cat_cols])"
   ]
  },
  {
   "cell_type": "code",
   "execution_count": 39,
   "id": "93389179-fd20-456b-bd40-3d241a308a76",
   "metadata": {},
   "outputs": [
    {
     "name": "stdout",
     "output_type": "stream",
     "text": [
      "MAE for the model with the new features: 22.7\n"
     ]
    }
   ],
   "source": [
    "model = DecisionTreeRegressor(random_state=seed, max_depth=1)\n",
    "model.fit(x_train, y_train)\n",
    "y_pred = model.predict(x_test)\n",
    "\n",
    "rt_mae = mean_absolute_error(y_pred, y_test)\n",
    "print(f'MAE for the model with the new features: {round(rt_mae, 2)}')"
   ]
  },
  {
   "cell_type": "markdown",
   "id": "64803937-74fa-4c3e-91ff-84be47ed72de",
   "metadata": {},
   "source": [
    "Model containing the new features is clearly better than both the baseline model and the model currently in production (even after retraining)."
   ]
  }
 ],
 "metadata": {
  "kernelspec": {
   "display_name": "Python 3 (ipykernel)",
   "language": "python",
   "name": "python3"
  },
  "language_info": {
   "codemirror_mode": {
    "name": "ipython",
    "version": 3
   },
   "file_extension": ".py",
   "mimetype": "text/x-python",
   "name": "python",
   "nbconvert_exporter": "python",
   "pygments_lexer": "ipython3",
   "version": "3.9.7"
  }
 },
 "nbformat": 4,
 "nbformat_minor": 5
}
