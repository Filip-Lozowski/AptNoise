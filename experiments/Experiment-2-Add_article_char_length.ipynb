{
 "cells": [
  {
   "cell_type": "markdown",
   "id": "68dcbbbc-4646-4cb2-b5db-b39093c83ed8",
   "metadata": {},
   "source": [
    "# Summary"
   ]
  },
  {
   "cell_type": "markdown",
   "id": "8c6bf24c-158a-4531-aa37-1e0661158f91",
   "metadata": {},
   "source": [
    "Adding the new feature is slightly better than other solutions, that is a heuristic model as well as the model currently in production (whether retrained or not). \n",
    "\n",
    "Other values of max_depth for the new model were checked. The old value of 1 is still the best one.\n",
    "\n",
    "The new model comes with a disadvantage of not being able to predict a score on articles that miss their content in the API and there were a few of such records already in the dataset. However, it's probably worth it to put the new model into production and reevaluate the new feature's impact again when more data is gathered. "
   ]
  },
  {
   "cell_type": "markdown",
   "id": "be242d2b-5a0f-4c00-95be-3081b032de02",
   "metadata": {},
   "source": [
    "# Setup"
   ]
  },
  {
   "cell_type": "code",
   "execution_count": 1,
   "id": "c6c77b9a-7268-48c2-b9da-fabc5d91400a",
   "metadata": {},
   "outputs": [],
   "source": [
    "%config Completer.use_jedi = False"
   ]
  },
  {
   "cell_type": "code",
   "execution_count": 2,
   "id": "4fe33229-b222-4842-a7bf-179e7d1d4e97",
   "metadata": {},
   "outputs": [],
   "source": [
    "import pickle\n",
    "import re\n",
    "\n",
    "import numpy as np\n",
    "import pandas as pd\n",
    "import seaborn as sns\n",
    "from sklearn.metrics import mean_absolute_error\n",
    "from sklearn.preprocessing import OrdinalEncoder\n",
    "from sklearn.tree import DecisionTreeRegressor\n",
    "\n",
    "from dataprep import db_to_df"
   ]
  },
  {
   "cell_type": "markdown",
   "id": "03adc7e1-4a1e-4972-beca-9f402add62aa",
   "metadata": {},
   "source": [
    "# Data preparation"
   ]
  },
  {
   "cell_type": "code",
   "execution_count": 3,
   "id": "2a4bdd91-b2d5-4429-a033-65a554be2729",
   "metadata": {},
   "outputs": [
    {
     "name": "stdout",
     "output_type": "stream",
     "text": [
      "<class 'pandas.core.frame.DataFrame'>\n",
      "Int64Index: 57 entries, 1 to 57\n",
      "Data columns (total 9 columns):\n",
      " #   Column                          Non-Null Count  Dtype  \n",
      "---  ------                          --------------  -----  \n",
      " 0   author                          41 non-null     object \n",
      " 1   title                           57 non-null     object \n",
      " 2   url                             57 non-null     object \n",
      " 3   published_at                    57 non-null     object \n",
      " 4   content                         54 non-null     object \n",
      " 5   source_name                     57 non-null     object \n",
      " 6   predicted_score_when_presented  57 non-null     float64\n",
      " 7   assigned_score                  57 non-null     int64  \n",
      " 8   is_test_record                  57 non-null     int64  \n",
      "dtypes: float64(1), int64(2), object(6)\n",
      "memory usage: 4.5+ KB\n"
     ]
    }
   ],
   "source": [
    "articles = db_to_df()\n",
    "articles.info()"
   ]
  },
  {
   "cell_type": "code",
   "execution_count": 4,
   "id": "808d54b3-9ddc-4d09-8dd1-dc521fe58684",
   "metadata": {},
   "outputs": [],
   "source": [
    "articles['published_at'] = pd.to_datetime(articles['published_at'])"
   ]
  },
  {
   "cell_type": "code",
   "execution_count": 5,
   "id": "67a5d97b-bfc7-4bab-8307-0d689220056a",
   "metadata": {},
   "outputs": [
    {
     "data": {
      "text/html": [
       "<div>\n",
       "<style scoped>\n",
       "    .dataframe tbody tr th:only-of-type {\n",
       "        vertical-align: middle;\n",
       "    }\n",
       "\n",
       "    .dataframe tbody tr th {\n",
       "        vertical-align: top;\n",
       "    }\n",
       "\n",
       "    .dataframe thead th {\n",
       "        text-align: right;\n",
       "    }\n",
       "</style>\n",
       "<table border=\"1\" class=\"dataframe\">\n",
       "  <thead>\n",
       "    <tr style=\"text-align: right;\">\n",
       "      <th></th>\n",
       "      <th>author</th>\n",
       "      <th>title</th>\n",
       "      <th>url</th>\n",
       "      <th>published_at</th>\n",
       "      <th>content</th>\n",
       "      <th>source_name</th>\n",
       "      <th>predicted_score_when_presented</th>\n",
       "      <th>assigned_score</th>\n",
       "      <th>is_test_record</th>\n",
       "    </tr>\n",
       "    <tr>\n",
       "      <th>id</th>\n",
       "      <th></th>\n",
       "      <th></th>\n",
       "      <th></th>\n",
       "      <th></th>\n",
       "      <th></th>\n",
       "      <th></th>\n",
       "      <th></th>\n",
       "      <th></th>\n",
       "      <th></th>\n",
       "    </tr>\n",
       "  </thead>\n",
       "  <tbody>\n",
       "    <tr>\n",
       "      <th>1</th>\n",
       "      <td>Tyler Sullivan</td>\n",
       "      <td>2022 NFL Free Agency tracker: Live updates, la...</td>\n",
       "      <td>https://www.cbssports.com/nfl/news/2022-nfl-fr...</td>\n",
       "      <td>2022-03-15 14:35:03+00:00</td>\n",
       "      <td>The dominos are continuing to fall across the ...</td>\n",
       "      <td>CBS Sports</td>\n",
       "      <td>50.0</td>\n",
       "      <td>-999</td>\n",
       "      <td>0</td>\n",
       "    </tr>\n",
       "    <tr>\n",
       "      <th>2</th>\n",
       "      <td>By &lt;a href=\"/profiles/jessie-yeung\"&gt;Jessie Yeu...</td>\n",
       "      <td>Russia invades Ukraine: Live updates - CNN</td>\n",
       "      <td>https://www.cnn.com/europe/live-news/ukraine-r...</td>\n",
       "      <td>2022-03-05 06:27:00+00:00</td>\n",
       "      <td>Russia is poised to deploy up to 1,000 more me...</td>\n",
       "      <td>CNN</td>\n",
       "      <td>50.0</td>\n",
       "      <td>-999</td>\n",
       "      <td>1</td>\n",
       "    </tr>\n",
       "    <tr>\n",
       "      <th>3</th>\n",
       "      <td>By &lt;a href=\"/profiles/jessie-yeung\"&gt;Jessie Yeu...</td>\n",
       "      <td>Russia invades Ukraine: Live updates - CNN</td>\n",
       "      <td>https://www.cnn.com/europe/live-news/ukraine-r...</td>\n",
       "      <td>2022-03-05 06:27:00+00:00</td>\n",
       "      <td>Russia is poised to deploy up to 1,000 more me...</td>\n",
       "      <td>CNN</td>\n",
       "      <td>50.0</td>\n",
       "      <td>95</td>\n",
       "      <td>0</td>\n",
       "    </tr>\n",
       "    <tr>\n",
       "      <th>4</th>\n",
       "      <td>None</td>\n",
       "      <td>Apple presses U.S. lawmakers on dangers of 'si...</td>\n",
       "      <td>https://www.reuters.com/technology/apple-press...</td>\n",
       "      <td>2022-03-04 22:13:00+00:00</td>\n",
       "      <td>WASHINGTON, March 4 (Reuters) - Smartphone mak...</td>\n",
       "      <td>Reuters</td>\n",
       "      <td>50.0</td>\n",
       "      <td>50</td>\n",
       "      <td>1</td>\n",
       "    </tr>\n",
       "    <tr>\n",
       "      <th>5</th>\n",
       "      <td>Brent Sobleski</td>\n",
       "      <td>Top 5 Potential Landing Spots for Dallas Cowbo...</td>\n",
       "      <td>https://bleacherreport.com/articles/2954024-to...</td>\n",
       "      <td>2022-03-04 22:34:10+00:00</td>\n",
       "      <td>Ron Schwane/Associated Press\\r\\nMuch like Coop...</td>\n",
       "      <td>Bleacher Report</td>\n",
       "      <td>50.0</td>\n",
       "      <td>0</td>\n",
       "      <td>0</td>\n",
       "    </tr>\n",
       "  </tbody>\n",
       "</table>\n",
       "</div>"
      ],
      "text/plain": [
       "                                               author  \\\n",
       "id                                                      \n",
       "1                                      Tyler Sullivan   \n",
       "2   By <a href=\"/profiles/jessie-yeung\">Jessie Yeu...   \n",
       "3   By <a href=\"/profiles/jessie-yeung\">Jessie Yeu...   \n",
       "4                                                None   \n",
       "5                                      Brent Sobleski   \n",
       "\n",
       "                                                title  \\\n",
       "id                                                      \n",
       "1   2022 NFL Free Agency tracker: Live updates, la...   \n",
       "2          Russia invades Ukraine: Live updates - CNN   \n",
       "3          Russia invades Ukraine: Live updates - CNN   \n",
       "4   Apple presses U.S. lawmakers on dangers of 'si...   \n",
       "5   Top 5 Potential Landing Spots for Dallas Cowbo...   \n",
       "\n",
       "                                                  url  \\\n",
       "id                                                      \n",
       "1   https://www.cbssports.com/nfl/news/2022-nfl-fr...   \n",
       "2   https://www.cnn.com/europe/live-news/ukraine-r...   \n",
       "3   https://www.cnn.com/europe/live-news/ukraine-r...   \n",
       "4   https://www.reuters.com/technology/apple-press...   \n",
       "5   https://bleacherreport.com/articles/2954024-to...   \n",
       "\n",
       "                published_at  \\\n",
       "id                             \n",
       "1  2022-03-15 14:35:03+00:00   \n",
       "2  2022-03-05 06:27:00+00:00   \n",
       "3  2022-03-05 06:27:00+00:00   \n",
       "4  2022-03-04 22:13:00+00:00   \n",
       "5  2022-03-04 22:34:10+00:00   \n",
       "\n",
       "                                              content      source_name  \\\n",
       "id                                                                       \n",
       "1   The dominos are continuing to fall across the ...       CBS Sports   \n",
       "2   Russia is poised to deploy up to 1,000 more me...              CNN   \n",
       "3   Russia is poised to deploy up to 1,000 more me...              CNN   \n",
       "4   WASHINGTON, March 4 (Reuters) - Smartphone mak...          Reuters   \n",
       "5   Ron Schwane/Associated Press\\r\\nMuch like Coop...  Bleacher Report   \n",
       "\n",
       "    predicted_score_when_presented  assigned_score  is_test_record  \n",
       "id                                                                  \n",
       "1                             50.0            -999               0  \n",
       "2                             50.0            -999               1  \n",
       "3                             50.0              95               0  \n",
       "4                             50.0              50               1  \n",
       "5                             50.0               0               0  "
      ]
     },
     "execution_count": 5,
     "metadata": {},
     "output_type": "execute_result"
    }
   ],
   "source": [
    "articles.head()"
   ]
  },
  {
   "cell_type": "code",
   "execution_count": 6,
   "id": "7d91b03d-da91-4da2-8141-94896c92880a",
   "metadata": {},
   "outputs": [
    {
     "name": "stdout",
     "output_type": "stream",
     "text": [
      "2 rows dropped.\n"
     ]
    }
   ],
   "source": [
    "# drop dummy records\n",
    "\n",
    "n_rows_bef = len(articles)\n",
    "articles = articles[articles['assigned_score']!=-999]\n",
    "n_rows_after = len(articles)\n",
    "print(f'{n_rows_bef - n_rows_after} rows dropped.')"
   ]
  },
  {
   "cell_type": "code",
   "execution_count": 7,
   "id": "3f6a2cd3-d649-49f3-bc73-5660df12a77b",
   "metadata": {},
   "outputs": [
    {
     "name": "stdout",
     "output_type": "stream",
     "text": [
      "0 rows dropped.\n"
     ]
    }
   ],
   "source": [
    "# drop duplicates\n",
    "\n",
    "n_rows_bef = len(articles)\n",
    "articles = articles.drop_duplicates(subset=['title', 'published_at'])\n",
    "n_rows_after = len(articles)\n",
    "print(f'{n_rows_bef - n_rows_after} rows dropped.')"
   ]
  },
  {
   "cell_type": "code",
   "execution_count": 8,
   "id": "6bbc84d4-afa7-4460-a7ea-816149d5b896",
   "metadata": {},
   "outputs": [
    {
     "name": "stdout",
     "output_type": "stream",
     "text": [
      "Number of training records: 26\n",
      "Number of test records: 29\n"
     ]
    }
   ],
   "source": [
    "training = articles[articles['is_test_record']==0].copy()\n",
    "test = articles[articles['is_test_record']==1].copy()\n",
    "\n",
    "print(f'Number of training records: {len(training)}')\n",
    "print(f'Number of test records: {len(test)}')"
   ]
  },
  {
   "cell_type": "markdown",
   "id": "3108d1b2-2f90-443d-84c0-6e819db24703",
   "metadata": {},
   "source": [
    "# Add article length"
   ]
  },
  {
   "cell_type": "markdown",
   "id": "1719c383-5ab4-49af-b05f-1040db9cae39",
   "metadata": {},
   "source": [
    "Adding this features excludes all records for which no content is provided."
   ]
  },
  {
   "cell_type": "code",
   "execution_count": 9,
   "id": "e09a26d9-03a9-46bb-8eb3-c323b4b452e8",
   "metadata": {},
   "outputs": [
    {
     "name": "stdout",
     "output_type": "stream",
     "text": [
      "0 rows dropped from the training set.\n",
      "3 rows dropped from the test set.\n"
     ]
    }
   ],
   "source": [
    "n_rows_bef = len(training)\n",
    "training.dropna(subset='content', inplace=True)\n",
    "n_rows_after = len(training)\n",
    "print(f'{n_rows_bef - n_rows_after} rows dropped from the training set.')\n",
    "\n",
    "n_rows_bef = len(test)\n",
    "test.dropna(subset='content', inplace=True)\n",
    "n_rows_after = len(test)\n",
    "print(f'{n_rows_bef - n_rows_after} rows dropped from the test set.')"
   ]
  },
  {
   "cell_type": "code",
   "execution_count": 10,
   "id": "a4a2a0ad-57ef-423a-ac96-faffc2179cef",
   "metadata": {},
   "outputs": [
    {
     "data": {
      "text/plain": [
       "'The Islamic State (ISIS) has claimed responsibility for Fridays attack on a Shia mosque in Pakistans northwestern city of Peshawar that killed at least 61 people and injured another 196.\\r\\nA post from… [+1098 chars]'"
      ]
     },
     "execution_count": 10,
     "metadata": {},
     "output_type": "execute_result"
    }
   ],
   "source": [
    "text = training.loc[7, 'content']\n",
    "text"
   ]
  },
  {
   "cell_type": "code",
   "execution_count": 11,
   "id": "cd34281e-d6e3-4083-989e-94132c46e96d",
   "metadata": {},
   "outputs": [
    {
     "data": {
      "text/plain": [
       "'… [+1098 chars]'"
      ]
     },
     "execution_count": 11,
     "metadata": {},
     "output_type": "execute_result"
    }
   ],
   "source": [
    "content_end = text[-15:]\n",
    "content_end"
   ]
  },
  {
   "cell_type": "code",
   "execution_count": 12,
   "id": "eca1a0ce-1b70-4b4c-a0a6-3bc0df58f262",
   "metadata": {},
   "outputs": [
    {
     "data": {
      "text/plain": [
       "'1098'"
      ]
     },
     "execution_count": 12,
     "metadata": {},
     "output_type": "execute_result"
    }
   ],
   "source": [
    "re.search('\\d+', content_end)[0]"
   ]
  },
  {
   "cell_type": "code",
   "execution_count": 13,
   "id": "5a66928a-d238-4036-acda-8a0df86efe92",
   "metadata": {},
   "outputs": [],
   "source": [
    "def derive_content_length(row):\n",
    "    content = row['content']\n",
    "    content_end = content[-15:]\n",
    "    match = re.search('\\d+', content_end)\n",
    "    \n",
    "    if match:\n",
    "        content_length = match[0]\n",
    "        return int(content_length)\n",
    "    else:\n",
    "        return np.nan"
   ]
  },
  {
   "cell_type": "code",
   "execution_count": 14,
   "id": "b06d29dc-cfed-4ad8-a555-8254cb553c6e",
   "metadata": {},
   "outputs": [
    {
     "name": "stdout",
     "output_type": "stream",
     "text": [
      "0 rows dropped from the training set.\n"
     ]
    }
   ],
   "source": [
    "training['content_length_chars'] = training.apply(derive_content_length, axis=1)\n",
    "\n",
    "n_rows_bef = len(training)\n",
    "training.dropna(subset='content_length_chars', inplace=True)\n",
    "n_rows_after = len(training)\n",
    "print(f'{n_rows_bef - n_rows_after} rows dropped from the training set.')"
   ]
  },
  {
   "cell_type": "code",
   "execution_count": 15,
   "id": "e0b873da-8b80-4a4f-9a2b-b058d1dbc175",
   "metadata": {},
   "outputs": [
    {
     "data": {
      "text/html": [
       "<div>\n",
       "<style scoped>\n",
       "    .dataframe tbody tr th:only-of-type {\n",
       "        vertical-align: middle;\n",
       "    }\n",
       "\n",
       "    .dataframe tbody tr th {\n",
       "        vertical-align: top;\n",
       "    }\n",
       "\n",
       "    .dataframe thead th {\n",
       "        text-align: right;\n",
       "    }\n",
       "</style>\n",
       "<table border=\"1\" class=\"dataframe\">\n",
       "  <thead>\n",
       "    <tr style=\"text-align: right;\">\n",
       "      <th></th>\n",
       "      <th>content</th>\n",
       "      <th>content_length_chars</th>\n",
       "    </tr>\n",
       "    <tr>\n",
       "      <th>id</th>\n",
       "      <th></th>\n",
       "      <th></th>\n",
       "    </tr>\n",
       "  </thead>\n",
       "  <tbody>\n",
       "    <tr>\n",
       "      <th>3</th>\n",
       "      <td>Russia is poised to deploy up to 1,000 more mercenaries to Ukraine in the coming days and weeks, as a senior Western intelligence official warned Moscow could \"bombard cities into submission,\" an esc… [+2655 chars]</td>\n",
       "      <td>2655</td>\n",
       "    </tr>\n",
       "    <tr>\n",
       "      <th>5</th>\n",
       "      <td>Ron Schwane/Associated Press\\r\\nMuch like Cooper and the Cowboys, Jarvis Landry and the Cleveland Browns appear to be parting ways imminently. \\r\\nLandry spoke out about his current situation on social m… [+1259 chars]</td>\n",
       "      <td>1259</td>\n",
       "    </tr>\n",
       "    <tr>\n",
       "      <th>7</th>\n",
       "      <td>The Islamic State (ISIS) has claimed responsibility for Fridays attack on a Shia mosque in Pakistans northwestern city of Peshawar that killed at least 61 people and injured another 196.\\r\\nA post from… [+1098 chars]</td>\n",
       "      <td>1098</td>\n",
       "    </tr>\n",
       "    <tr>\n",
       "      <th>10</th>\n",
       "      <td>The stance of those opposed to the development, Ms. Jagadeesh added, clashes sharply with the Mothers vision for a model city of the future that would be replicated around the world.\\r\\nWe are here for… [+931 chars]</td>\n",
       "      <td>931</td>\n",
       "    </tr>\n",
       "    <tr>\n",
       "      <th>12</th>\n",
       "      <td>SpaceX's Elon Musk tweeted on Saturday that Starlink was told by some governments to block Russian news sources. \\r\\nMusk said on Twitter: \"Starlink has been told by some governments (not Ukraine) to b… [+1425 chars]</td>\n",
       "      <td>1425</td>\n",
       "    </tr>\n",
       "  </tbody>\n",
       "</table>\n",
       "</div>"
      ],
      "text/plain": [
       "                                                                                                                                                                                                                       content  \\\n",
       "id                                                                                                                                                                                                                               \n",
       "3       Russia is poised to deploy up to 1,000 more mercenaries to Ukraine in the coming days and weeks, as a senior Western intelligence official warned Moscow could \"bombard cities into submission,\" an esc… [+2655 chars]   \n",
       "5   Ron Schwane/Associated Press\\r\\nMuch like Cooper and the Cowboys, Jarvis Landry and the Cleveland Browns appear to be parting ways imminently. \\r\\nLandry spoke out about his current situation on social m… [+1259 chars]   \n",
       "7     The Islamic State (ISIS) has claimed responsibility for Fridays attack on a Shia mosque in Pakistans northwestern city of Peshawar that killed at least 61 people and injured another 196.\\r\\nA post from… [+1098 chars]   \n",
       "10     The stance of those opposed to the development, Ms. Jagadeesh added, clashes sharply with the Mothers vision for a model city of the future that would be replicated around the world.\\r\\nWe are here for… [+931 chars]   \n",
       "12    SpaceX's Elon Musk tweeted on Saturday that Starlink was told by some governments to block Russian news sources. \\r\\nMusk said on Twitter: \"Starlink has been told by some governments (not Ukraine) to b… [+1425 chars]   \n",
       "\n",
       "    content_length_chars  \n",
       "id                        \n",
       "3                   2655  \n",
       "5                   1259  \n",
       "7                   1098  \n",
       "10                   931  \n",
       "12                  1425  "
      ]
     },
     "metadata": {},
     "output_type": "display_data"
    }
   ],
   "source": [
    "pd.set_option('max_colwidth', 300)\n",
    "display(training[['content', 'content_length_chars']].head())\n",
    "pd.set_option('max_colwidth', 50)"
   ]
  },
  {
   "cell_type": "markdown",
   "id": "cbc9a7b9-45f0-4927-8dc5-384f7d96e98b",
   "metadata": {},
   "source": [
    "# EDA"
   ]
  },
  {
   "cell_type": "code",
   "execution_count": 16,
   "id": "65d1e8af-9c9f-40e8-8b49-bb4bf9605271",
   "metadata": {},
   "outputs": [
    {
     "data": {
      "text/plain": [
       "<AxesSubplot:xlabel='assigned_score', ylabel='Count'>"
      ]
     },
     "execution_count": 16,
     "metadata": {},
     "output_type": "execute_result"
    },
    {
     "data": {
      "image/png": "[encoded data removed]",
      "text/plain": [
       "<Figure size 432x288 with 1 Axes>"
      ]
     },
     "metadata": {
      "needs_background": "light"
     },
     "output_type": "display_data"
    }
   ],
   "source": [
    "sns.histplot(training['assigned_score'], bins=10)\n",
    "# assigned score is the target value assigned by the user"
   ]
  },
  {
   "cell_type": "markdown",
   "id": "67c93839-fe23-4762-99de-1e0236a6a6ec",
   "metadata": {},
   "source": [
    "Some value ranges in the training set are missing which is to be expected by such a small dataset."
   ]
  },
  {
   "cell_type": "code",
   "execution_count": 17,
   "id": "3f4d323b-9b10-4005-ade2-d9029711676e",
   "metadata": {},
   "outputs": [
    {
     "name": "stdout",
     "output_type": "stream",
     "text": [
      "26\n",
      "21\n"
     ]
    }
   ],
   "source": [
    "print(len(training))\n",
    "print(training['author'].nunique())"
   ]
  },
  {
   "cell_type": "markdown",
   "id": "4f235527-e263-44d0-a35e-871390c7720d",
   "metadata": {},
   "source": [
    "Out of 26 records, 21 have a unique author. This means the feature is not likely to be helpful for most records."
   ]
  },
  {
   "cell_type": "code",
   "execution_count": 18,
   "id": "2ab030c6-ddc2-4aee-91e3-7a717e9f8ebb",
   "metadata": {},
   "outputs": [
    {
     "name": "stdout",
     "output_type": "stream",
     "text": [
      "26\n",
      "16\n"
     ]
    }
   ],
   "source": [
    "print(len(training))\n",
    "print(training['source_name'].nunique())"
   ]
  },
  {
   "cell_type": "markdown",
   "id": "ee4755f9-4ec9-4ad3-883b-47dc1e9e038b",
   "metadata": {},
   "source": [
    "Out of 26 records, 16 have a unique source. This is better than authors, but still may bring not too many information. This should improve as more data is gathered as sources are much less numerous in the real world than authors. While gathering more data, it's likely that the sources will constantly reappear."
   ]
  },
  {
   "cell_type": "code",
   "execution_count": 19,
   "id": "9de3a128-2661-4a99-b210-378a4d7ac4d5",
   "metadata": {},
   "outputs": [
    {
     "data": {
      "text/plain": [
       "<AxesSubplot:xlabel='content_length_chars', ylabel='Count'>"
      ]
     },
     "execution_count": 19,
     "metadata": {},
     "output_type": "execute_result"
    },
    {
     "data": {
      "image/png": "[encoded data removed]",
      "text/plain": [
       "<Figure size 432x288 with 1 Axes>"
      ]
     },
     "metadata": {
      "needs_background": "light"
     },
     "output_type": "display_data"
    }
   ],
   "source": [
    "sns.histplot(training['content_length_chars'], bins=20)"
   ]
  },
  {
   "cell_type": "markdown",
   "id": "b6dac528-301a-49c7-b1ec-a9beb599cd6c",
   "metadata": {},
   "source": [
    "Around three quarters of articles have their length under 2000 characters."
   ]
  },
  {
   "cell_type": "code",
   "execution_count": 20,
   "id": "3f928f67-ab7a-4489-88bd-6b09a01eb175",
   "metadata": {},
   "outputs": [
    {
     "data": {
      "text/plain": [
       "<seaborn.axisgrid.FacetGrid at 0x1d1ae298610>"
      ]
     },
     "execution_count": 20,
     "metadata": {},
     "output_type": "execute_result"
    },
    {
     "data": {
      "image/png": "[encoded data removed]",
      "text/plain": [
       "<Figure size 360x360 with 1 Axes>"
      ]
     },
     "metadata": {
      "needs_background": "light"
     },
     "output_type": "display_data"
    }
   ],
   "source": [
    "sns.relplot(x='content_length_chars', y='assigned_score', data=training)"
   ]
  },
  {
   "cell_type": "code",
   "execution_count": 21,
   "id": "a092713c-0a3a-4b75-a1e7-c413c0a0f540",
   "metadata": {},
   "outputs": [
    {
     "name": "stdout",
     "output_type": "stream",
     "text": [
      "0.3\n"
     ]
    }
   ],
   "source": [
    "corr = np.corrcoef(training['content_length_chars'], training['assigned_score'])[1][0]\n",
    "print(round(corr, 2))"
   ]
  },
  {
   "cell_type": "markdown",
   "id": "b63a2e15-9d76-4a65-97ec-1cfe7e371da7",
   "metadata": {},
   "source": [
    "The correlation coefficient is small but meaningful. Looking at the plot though, it's possible that the coefficient is driven by the two outliers as other data points form a vertical line."
   ]
  },
  {
   "cell_type": "markdown",
   "id": "a91a3e77-e41b-4eea-b518-663476e62951",
   "metadata": {},
   "source": [
    "# Modeling"
   ]
  },
  {
   "cell_type": "markdown",
   "id": "234d9d95-a771-4f97-91a1-d484fe1fe7a2",
   "metadata": {},
   "source": [
    "The dataset is very small, so all results are in reality rather unreliable."
   ]
  },
  {
   "cell_type": "code",
   "execution_count": 22,
   "id": "29a93adc-4243-4034-aff1-132b62e0dae2",
   "metadata": {},
   "outputs": [],
   "source": [
    "y_train = training['assigned_score']\n",
    "y_test = test['assigned_score']"
   ]
  },
  {
   "cell_type": "code",
   "execution_count": 23,
   "id": "01577d97-238b-4f6e-ac73-39b041317998",
   "metadata": {},
   "outputs": [],
   "source": [
    "seed = 23"
   ]
  },
  {
   "cell_type": "markdown",
   "id": "6c34bd4c-5b74-4d12-96f7-0dfe326ecc5c",
   "metadata": {},
   "source": [
    "## Baseline model"
   ]
  },
  {
   "cell_type": "code",
   "execution_count": 24,
   "id": "8b4dc4b9-f0c4-4210-aa66-9003a238e701",
   "metadata": {},
   "outputs": [],
   "source": [
    "class BaselineModel:\n",
    "    \n",
    "    def train(self, y_train):\n",
    "        self.mean_y = y_train.mean()\n",
    "        \n",
    "    def predict(self, x):\n",
    "        n_preds = len(x)\n",
    "        return np.full(n_preds, self.mean_y)"
   ]
  },
  {
   "cell_type": "code",
   "execution_count": 25,
   "id": "3f28349e-4c8b-4069-937b-69b6eee15f02",
   "metadata": {},
   "outputs": [
    {
     "name": "stdout",
     "output_type": "stream",
     "text": [
      "MAE for the baseline model : 29.25\n"
     ]
    }
   ],
   "source": [
    "model = BaselineModel()\n",
    "model.train(y_train)\n",
    "y_pred = model.predict(test)\n",
    "\n",
    "bl_mae = mean_absolute_error(y_pred, y_test)\n",
    "print(f'MAE for the baseline model : {round(bl_mae, 2)}')"
   ]
  },
  {
   "cell_type": "markdown",
   "id": "4c608a4a-cb1d-4591-a322-bf6cea030c07",
   "metadata": {},
   "source": [
    "## Current model"
   ]
  },
  {
   "cell_type": "code",
   "execution_count": 26,
   "id": "03025c7c-4af8-4415-880c-9cea0879b9cd",
   "metadata": {},
   "outputs": [],
   "source": [
    "feature_cols = ['author', 'source_name']"
   ]
  },
  {
   "cell_type": "code",
   "execution_count": 27,
   "id": "d2ae56db-bf8c-4cba-8d24-7b5b23c7a145",
   "metadata": {},
   "outputs": [],
   "source": [
    "x_test = test[feature_cols]\n",
    "\n",
    "encoder = pickle.load(open('source_encoder.pkl', 'rb'))\n",
    "x_test = encoder.transform(x_test)"
   ]
  },
  {
   "cell_type": "code",
   "execution_count": 28,
   "id": "fecb4c88-f062-48fc-a32d-e836048c5ddb",
   "metadata": {},
   "outputs": [
    {
     "name": "stdout",
     "output_type": "stream",
     "text": [
      "MAE for the model currently in production: 30.31\n"
     ]
    }
   ],
   "source": [
    "model = pickle.load(open('ml_model.pkl', 'rb'))\n",
    "y_pred = model.predict(x_test)\n",
    "\n",
    "cur_mae = mean_absolute_error(y_pred, y_test)\n",
    "print(f'MAE for the model currently in production: {round(cur_mae, 2)}')"
   ]
  },
  {
   "cell_type": "markdown",
   "id": "fea4cbee-8d18-4259-bf7b-481b53c88490",
   "metadata": {},
   "source": [
    "## Current model - retrained"
   ]
  },
  {
   "cell_type": "code",
   "execution_count": 29,
   "id": "1b51cedf-83a1-40c7-ad03-49946c0761ea",
   "metadata": {},
   "outputs": [],
   "source": [
    "x_train = training[feature_cols]\n",
    "x_test = test[feature_cols]\n",
    "\n",
    "encoder = OrdinalEncoder(handle_unknown='use_encoded_value', unknown_value=999)\n",
    "encoder.fit(x_train)\n",
    "\n",
    "x_train = encoder.transform(x_train)\n",
    "x_test = encoder.transform(x_test)"
   ]
  },
  {
   "cell_type": "code",
   "execution_count": 30,
   "id": "c369fbcf-e136-4ee0-9a25-745a78412b2d",
   "metadata": {},
   "outputs": [
    {
     "name": "stdout",
     "output_type": "stream",
     "text": [
      "MAE for the retrained model: 29.97\n"
     ]
    }
   ],
   "source": [
    "model = DecisionTreeRegressor(random_state=seed, max_depth=1)\n",
    "model.fit(x_train, y_train)\n",
    "y_pred = model.predict(x_test)\n",
    "\n",
    "rt_mae = mean_absolute_error(y_pred, y_test)\n",
    "print(f'MAE for the retrained model: {round(rt_mae, 2)}')"
   ]
  },
  {
   "cell_type": "code",
   "execution_count": 31,
   "id": "16459c08-8dea-451d-919e-a1d2a5fe0e86",
   "metadata": {},
   "outputs": [
    {
     "name": "stdout",
     "output_type": "stream",
     "text": [
      "Training set MAE for the retrained model: 23.1\n"
     ]
    }
   ],
   "source": [
    "y_pred = model.predict(x_train)\n",
    "rt_mae_train = mean_absolute_error(y_pred, y_train)\n",
    "print(f'Training set MAE for the retrained model: {round(rt_mae_train, 2)}')"
   ]
  },
  {
   "cell_type": "markdown",
   "id": "719a8328-f9e4-45a3-953c-28efb0392f40",
   "metadata": {},
   "source": [
    "## Adding the content length"
   ]
  },
  {
   "cell_type": "code",
   "execution_count": 32,
   "id": "22e8e1dc-29c7-4b42-b164-6f6b0d78e270",
   "metadata": {},
   "outputs": [
    {
     "name": "stdout",
     "output_type": "stream",
     "text": [
      "1 rows dropped from the test set.\n"
     ]
    }
   ],
   "source": [
    "test['content_length_chars'] = test.apply(derive_content_length, axis=1)\n",
    "n_rows_bef = len(test)\n",
    "test.dropna(subset='content_length_chars', inplace=True)\n",
    "n_rows_after = len(test)\n",
    "print(f'{n_rows_bef - n_rows_after} rows dropped from the test set.')"
   ]
  },
  {
   "cell_type": "code",
   "execution_count": 33,
   "id": "95a0bec9-3ae3-4496-868a-92ed5024d8ac",
   "metadata": {},
   "outputs": [],
   "source": [
    "cat_cols = ['author', 'source_name']\n",
    "feature_cols = feature_cols + ['content_length_chars']\n",
    "x_train = training[feature_cols].copy()\n",
    "x_test = test[feature_cols].copy()\n",
    "y_test = test['assigned_score']"
   ]
  },
  {
   "cell_type": "code",
   "execution_count": 34,
   "id": "f8c11270-9cf1-4284-a5d2-36fb4dcba465",
   "metadata": {},
   "outputs": [],
   "source": [
    "encoder = OrdinalEncoder(handle_unknown='use_encoded_value', unknown_value=999)\n",
    "encoder.fit(x_train[cat_cols])\n",
    "\n",
    "x_train[cat_cols] = encoder.transform(x_train[cat_cols])\n",
    "x_test[cat_cols] = encoder.transform(x_test[cat_cols])"
   ]
  },
  {
   "cell_type": "code",
   "execution_count": 35,
   "id": "93389179-fd20-456b-bd40-3d241a308a76",
   "metadata": {},
   "outputs": [
    {
     "name": "stdout",
     "output_type": "stream",
     "text": [
      "MAE for the model with the new feature: 28.4\n"
     ]
    }
   ],
   "source": [
    "model = DecisionTreeRegressor(random_state=seed, max_depth=1)\n",
    "model.fit(x_train, y_train)\n",
    "y_pred = model.predict(x_test)\n",
    "\n",
    "rt_mae = mean_absolute_error(y_pred, y_test)\n",
    "print(f'MAE for the model with the new feature: {round(rt_mae, 2)}')"
   ]
  },
  {
   "cell_type": "markdown",
   "id": "3da2f367-fdf3-434a-bef0-be830f64def6",
   "metadata": {},
   "source": [
    "This score is slightly better than other solutions.\n",
    "\n",
    "It's also worth checking whether adding this feature as well as more data would work better with a different value of the tree's max depth."
   ]
  },
  {
   "cell_type": "markdown",
   "id": "51069360-c528-4dca-8e1d-ef90ce84f7d8",
   "metadata": {},
   "source": [
    "### Checking new max_depth value"
   ]
  },
  {
   "cell_type": "code",
   "execution_count": 36,
   "id": "29c9347b-1772-481a-80ec-c896501923f8",
   "metadata": {},
   "outputs": [],
   "source": [
    "from sklearn.model_selection import GridSearchCV"
   ]
  },
  {
   "cell_type": "code",
   "execution_count": 37,
   "id": "a9ebce5f-6397-4fd9-9eae-da4880793317",
   "metadata": {},
   "outputs": [],
   "source": [
    "params = {\n",
    "    'max_depth': (1, 2, 3, 4, 5, None)\n",
    "}\n",
    "\n",
    "model = DecisionTreeRegressor(random_state=seed)\n",
    "grid = GridSearchCV(model, params, scoring='neg_mean_absolute_error')\n",
    "grid.fit(x_train, y_train)\n",
    "results = pd.DataFrame(grid.cv_results_)"
   ]
  },
  {
   "cell_type": "code",
   "execution_count": 38,
   "id": "fae92b6f-ec83-47ac-8fc8-5ba1f85edc67",
   "metadata": {},
   "outputs": [
    {
     "data": {
      "text/plain": [
       "{'max_depth': 1}"
      ]
     },
     "execution_count": 38,
     "metadata": {},
     "output_type": "execute_result"
    }
   ],
   "source": [
    "grid.best_params_"
   ]
  },
  {
   "cell_type": "code",
   "execution_count": 39,
   "id": "036c2b51-ce00-469d-b1a4-aa6c383fa41d",
   "metadata": {},
   "outputs": [
    {
     "data": {
      "text/html": [
       "<div>\n",
       "<style scoped>\n",
       "    .dataframe tbody tr th:only-of-type {\n",
       "        vertical-align: middle;\n",
       "    }\n",
       "\n",
       "    .dataframe tbody tr th {\n",
       "        vertical-align: top;\n",
       "    }\n",
       "\n",
       "    .dataframe thead th {\n",
       "        text-align: right;\n",
       "    }\n",
       "</style>\n",
       "<table border=\"1\" class=\"dataframe\">\n",
       "  <thead>\n",
       "    <tr style=\"text-align: right;\">\n",
       "      <th></th>\n",
       "      <th>mean_fit_time</th>\n",
       "      <th>std_fit_time</th>\n",
       "      <th>mean_score_time</th>\n",
       "      <th>std_score_time</th>\n",
       "      <th>param_max_depth</th>\n",
       "      <th>params</th>\n",
       "      <th>split0_test_score</th>\n",
       "      <th>split1_test_score</th>\n",
       "      <th>split2_test_score</th>\n",
       "      <th>split3_test_score</th>\n",
       "      <th>split4_test_score</th>\n",
       "      <th>mean_test_score</th>\n",
       "      <th>std_test_score</th>\n",
       "      <th>rank_test_score</th>\n",
       "    </tr>\n",
       "  </thead>\n",
       "  <tbody>\n",
       "    <tr>\n",
       "      <th>0</th>\n",
       "      <td>0.001097</td>\n",
       "      <td>2.101809e-04</td>\n",
       "      <td>0.000788</td>\n",
       "      <td>2.405304e-04</td>\n",
       "      <td>1</td>\n",
       "      <td>{'max_depth': 1}</td>\n",
       "      <td>-33.333333</td>\n",
       "      <td>-18.210</td>\n",
       "      <td>-28.083333</td>\n",
       "      <td>-28.100000</td>\n",
       "      <td>-17.650000</td>\n",
       "      <td>-25.075333</td>\n",
       "      <td>6.142632</td>\n",
       "      <td>1</td>\n",
       "    </tr>\n",
       "    <tr>\n",
       "      <th>1</th>\n",
       "      <td>0.001091</td>\n",
       "      <td>1.981976e-04</td>\n",
       "      <td>0.000595</td>\n",
       "      <td>1.984359e-04</td>\n",
       "      <td>2</td>\n",
       "      <td>{'max_depth': 2}</td>\n",
       "      <td>-34.796970</td>\n",
       "      <td>-21.280</td>\n",
       "      <td>-37.500000</td>\n",
       "      <td>-26.618182</td>\n",
       "      <td>-19.466667</td>\n",
       "      <td>-27.932364</td>\n",
       "      <td>7.159770</td>\n",
       "      <td>2</td>\n",
       "    </tr>\n",
       "    <tr>\n",
       "      <th>2</th>\n",
       "      <td>0.000992</td>\n",
       "      <td>1.784161e-07</td>\n",
       "      <td>0.000496</td>\n",
       "      <td>1.784161e-07</td>\n",
       "      <td>3</td>\n",
       "      <td>{'max_depth': 3}</td>\n",
       "      <td>-31.844444</td>\n",
       "      <td>-13.100</td>\n",
       "      <td>-37.366667</td>\n",
       "      <td>-28.866667</td>\n",
       "      <td>-29.466667</td>\n",
       "      <td>-28.128889</td>\n",
       "      <td>8.091271</td>\n",
       "      <td>3</td>\n",
       "    </tr>\n",
       "    <tr>\n",
       "      <th>3</th>\n",
       "      <td>0.000992</td>\n",
       "      <td>2.780415e-07</td>\n",
       "      <td>0.000595</td>\n",
       "      <td>1.981736e-04</td>\n",
       "      <td>4</td>\n",
       "      <td>{'max_depth': 4}</td>\n",
       "      <td>-30.150000</td>\n",
       "      <td>-26.025</td>\n",
       "      <td>-40.300000</td>\n",
       "      <td>-30.600000</td>\n",
       "      <td>-30.450000</td>\n",
       "      <td>-31.505000</td>\n",
       "      <td>4.714881</td>\n",
       "      <td>4</td>\n",
       "    </tr>\n",
       "    <tr>\n",
       "      <th>4</th>\n",
       "      <td>0.000898</td>\n",
       "      <td>2.038133e-04</td>\n",
       "      <td>0.000496</td>\n",
       "      <td>3.170160e-06</td>\n",
       "      <td>5</td>\n",
       "      <td>{'max_depth': 5}</td>\n",
       "      <td>-37.875000</td>\n",
       "      <td>-30.050</td>\n",
       "      <td>-41.600000</td>\n",
       "      <td>-36.700000</td>\n",
       "      <td>-34.800000</td>\n",
       "      <td>-36.205000</td>\n",
       "      <td>3.794680</td>\n",
       "      <td>5</td>\n",
       "    </tr>\n",
       "    <tr>\n",
       "      <th>5</th>\n",
       "      <td>0.000895</td>\n",
       "      <td>1.977714e-04</td>\n",
       "      <td>0.000594</td>\n",
       "      <td>1.949566e-04</td>\n",
       "      <td>None</td>\n",
       "      <td>{'max_depth': None}</td>\n",
       "      <td>-39.166667</td>\n",
       "      <td>-31.600</td>\n",
       "      <td>-45.800000</td>\n",
       "      <td>-35.000000</td>\n",
       "      <td>-44.000000</td>\n",
       "      <td>-39.113333</td>\n",
       "      <td>5.328481</td>\n",
       "      <td>6</td>\n",
       "    </tr>\n",
       "  </tbody>\n",
       "</table>\n",
       "</div>"
      ],
      "text/plain": [
       "   mean_fit_time  std_fit_time  mean_score_time  std_score_time  \\\n",
       "0       0.001097  2.101809e-04         0.000788    2.405304e-04   \n",
       "1       0.001091  1.981976e-04         0.000595    1.984359e-04   \n",
       "2       0.000992  1.784161e-07         0.000496    1.784161e-07   \n",
       "3       0.000992  2.780415e-07         0.000595    1.981736e-04   \n",
       "4       0.000898  2.038133e-04         0.000496    3.170160e-06   \n",
       "5       0.000895  1.977714e-04         0.000594    1.949566e-04   \n",
       "\n",
       "  param_max_depth               params  split0_test_score  split1_test_score  \\\n",
       "0               1     {'max_depth': 1}         -33.333333            -18.210   \n",
       "1               2     {'max_depth': 2}         -34.796970            -21.280   \n",
       "2               3     {'max_depth': 3}         -31.844444            -13.100   \n",
       "3               4     {'max_depth': 4}         -30.150000            -26.025   \n",
       "4               5     {'max_depth': 5}         -37.875000            -30.050   \n",
       "5            None  {'max_depth': None}         -39.166667            -31.600   \n",
       "\n",
       "   split2_test_score  split3_test_score  split4_test_score  mean_test_score  \\\n",
       "0         -28.083333         -28.100000         -17.650000       -25.075333   \n",
       "1         -37.500000         -26.618182         -19.466667       -27.932364   \n",
       "2         -37.366667         -28.866667         -29.466667       -28.128889   \n",
       "3         -40.300000         -30.600000         -30.450000       -31.505000   \n",
       "4         -41.600000         -36.700000         -34.800000       -36.205000   \n",
       "5         -45.800000         -35.000000         -44.000000       -39.113333   \n",
       "\n",
       "   std_test_score  rank_test_score  \n",
       "0        6.142632                1  \n",
       "1        7.159770                2  \n",
       "2        8.091271                3  \n",
       "3        4.714881                4  \n",
       "4        3.794680                5  \n",
       "5        5.328481                6  "
      ]
     },
     "execution_count": 39,
     "metadata": {},
     "output_type": "execute_result"
    }
   ],
   "source": [
    "results"
   ]
  },
  {
   "cell_type": "markdown",
   "id": "e5aa514f-1464-4910-8e12-57bcfd676761",
   "metadata": {},
   "source": [
    "Max depth of 1 is still the best."
   ]
  }
 ],
 "metadata": {
  "kernelspec": {
   "display_name": "Python 3 (ipykernel)",
   "language": "python",
   "name": "python3"
  },
  "language_info": {
   "codemirror_mode": {
    "name": "ipython",
    "version": 3
   },
   "file_extension": ".py",
   "mimetype": "text/x-python",
   "name": "python",
   "nbconvert_exporter": "python",
   "pygments_lexer": "ipython3",
   "version": "3.9.7"
  }
 },
 "nbformat": 4,
 "nbformat_minor": 5
}
